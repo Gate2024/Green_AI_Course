{
 "cells": [
  {
   "cell_type": "markdown",
   "id": "645a9381-069f-47fe-ae5a-b5c242f57e56",
   "metadata": {},
   "source": [
    " # ......Day_One.....\n"
   ]
  },
  {
   "cell_type": "markdown",
   "id": "24da7445-2781-4374-9d4a-7c22416e7dcd",
   "metadata": {},
   "source": [
    " # *  What Is Python ? \n",
    " ## 1. Easy To Learn \n",
    " ## 2. Object Oriented , Interpreted , High LLevel Language \n",
    " # * Features Of Python : \n",
    " ## 1. Platform Independent \n",
    " ## 2 . It Can Embedded \n",
    " ## 3. Functional Programming Can Be Done \n",
    " #  * History Of Python :\n",
    " ## 1. Found in 1980 \n",
    " ## 2. Realeased In 1994 ( Python 1.0 ) \n",
    " # * IDE : \n",
    " ## 1.Pycharm \n",
    " ## 2.Jupyter Notebook \n",
    " \n",
    " "
   ]
  },
  {
   "cell_type": "markdown",
   "id": "c2d3462a-f60e-4a92-84d8-cbdf2b8f5b44",
   "metadata": {},
   "source": [
    "# * Keywords In Python : Predefined Words In Python ( That Cannot Be Change ) "
   ]
  },
  {
   "cell_type": "code",
   "execution_count": null,
   "id": "94222a50-7645-4130-9494-d8c95db7f9da",
   "metadata": {},
   "outputs": [],
   "source": [
    "import keyword\n",
    "print( keyword.kwlist)"
   ]
  },
  {
   "cell_type": "code",
   "execution_count": 12,
   "id": "1cae2b10-8bab-44a6-a31d-a29e67b5c36b",
   "metadata": {},
   "outputs": [
    {
     "data": {
      "text/plain": [
       "35"
      ]
     },
     "execution_count": 12,
     "metadata": {},
     "output_type": "execute_result"
    }
   ],
   "source": [
    "len(keyword.kwlist)"
   ]
  },
  {
   "cell_type": "markdown",
   "id": "31a0f9b9-1036-4f05-902a-e861a1a86aa8",
   "metadata": {},
   "source": [
    "# * IdentiFiers In Python : It is Name Given To The Entities Like Class , Functions , variable etc.\n",
    "## It helps To Differentiate Between one Entiti From Another .\n",
    "# * Rules For Variable Name :\n",
    "## 1. variable Should Not Start With Numbers ... ex. 123Variable ( Not Allowed ) But ( variable_123 ) Is Allowed . \n",
    "## 2. Variable Name Should not Contain any Special Characters Like ex.( Variablw@123)  except ( Underscore ( _ ) ) Ex. Variable_123 Is Allowed .\n",
    "## 3. Variable Name Should Not Start With Capital Letter . Ex. Var_123 is Not Allowed . \n",
    "# * Variables : A Container To Store The Coputers The Data Or Memory ."
   ]
  },
  {
   "cell_type": "code",
   "execution_count": 13,
   "id": "b5b1bda8-46a0-4ab7-9968-a4f011a3781f",
   "metadata": {},
   "outputs": [
    {
     "name": "stdout",
     "output_type": "stream",
     "text": [
      " Narayan Adhude \n"
     ]
    }
   ],
   "source": [
    "\n",
    "name = \" Narayan Adhude \" \n",
    "print(name)"
   ]
  },
  {
   "cell_type": "code",
   "execution_count": 14,
   "id": "af7fa7df-32aa-4e80-bb5b-dd67ccbe2750",
   "metadata": {},
   "outputs": [
    {
     "name": "stdout",
     "output_type": "stream",
     "text": [
      "0x1401cdd6eb0\n"
     ]
    }
   ],
   "source": [
    "# Address Where The Name Is Stored .\n",
    "print(hex(id(name)))"
   ]
  },
  {
   "cell_type": "code",
   "execution_count": 15,
   "id": "34db087f-2c5e-4dfc-b004-7b3b8aaf7f1c",
   "metadata": {},
   "outputs": [
    {
     "name": "stdout",
     "output_type": "stream",
     "text": [
      "30\n"
     ]
    }
   ],
   "source": [
    "sum = 10 + 20 \n",
    "print(sum)"
   ]
  },
  {
   "cell_type": "code",
   "execution_count": 16,
   "id": "255d8dae-74a9-4db9-a518-9a1415c0d696",
   "metadata": {},
   "outputs": [
    {
     "name": "stdout",
     "output_type": "stream",
     "text": [
      "30\n",
      "0x7ffc09882d58\n"
     ]
    }
   ],
   "source": [
    "# variable a Initialization \n",
    "a = 10 \n",
    "# variable b initialization\n",
    "b = 20 \n",
    "# Addition Of a and B \n",
    "sum = a + b \n",
    "# Display The Addition \n",
    "print(sum)\n",
    "# Display The Address Of Sum variable in Hexadecimal \n",
    "print(hex(id(sum)))"
   ]
  },
  {
   "cell_type": "markdown",
   "id": "9e8d38bb-a9d1-4bf8-ade1-8fb3801d81d0",
   "metadata": {},
   "source": [
    "# * Input Function : We Get The Value From The User ."
   ]
  },
  {
   "cell_type": "code",
   "execution_count": 21,
   "id": "4030a5f9-677b-41bc-8256-bf9e4ed7725b",
   "metadata": {},
   "outputs": [
    {
     "name": "stdin",
     "output_type": "stream",
     "text": [
      " Enter The Value Of a  5\n",
      " Enter The Value Of b  6\n"
     ]
    },
    {
     "name": "stdout",
     "output_type": "stream",
     "text": [
      "11\n",
      "0x7ffc09882af8\n"
     ]
    }
   ],
   "source": [
    " # Get The Value Of a from The User \n",
    " a = int(input(\" Enter The Value Of a \" ) )\n",
    " # Get The Value Of b From The User \n",
    " b = int(input(\" Enter The Value Of b \" ))\n",
    " # Display Value Of c  \n",
    " c = a + b \n",
    " print ( c )\n",
    " print(hex(id(c)))"
   ]
  },
  {
   "cell_type": "code",
   "execution_count": 35,
   "id": "856961a7-909d-4d41-89a7-2af359c0cf8b",
   "metadata": {},
   "outputs": [
    {
     "name": "stdin",
     "output_type": "stream",
     "text": [
      " Enter Your First Name :  Narayan\n",
      " Enter Your Last Name  Adhude\n"
     ]
    },
    {
     "name": "stdout",
     "output_type": "stream",
     "text": [
      "Narayan || Adhude\n",
      "Narayan||Adhude\n"
     ]
    }
   ],
   "source": [
    " # String Display \n",
    " first_name = input(\" Enter Your First Name : \"  )\n",
    " last_name = input(\" Enter Your Last Name \" ) \n",
    " print( first_name,\"||\", last_name)\n",
    " # Here Concatenation Used \n",
    " print( first_name+\"||\"+last_name)"
   ]
  },
  {
   "cell_type": "code",
   "execution_count": 36,
   "id": "8c947c5b-f0ba-40e9-aaed-41bc4e455cde",
   "metadata": {},
   "outputs": [
    {
     "name": "stdout",
     "output_type": "stream",
     "text": [
      "Narayan||Adhude\n"
     ]
    }
   ],
   "source": [
    "# Separetor Function Used Here \n",
    "print( first_name, last_name, sep=\"||\") "
   ]
  },
  {
   "cell_type": "code",
   "execution_count": 37,
   "id": "e1617ece-f9cc-4262-8596-892f7794f7dc",
   "metadata": {},
   "outputs": [
    {
     "name": "stdout",
     "output_type": "stream",
     "text": [
      "Narayan\n",
      "Adhude\n"
     ]
    }
   ],
   "source": [
    "print(first_name)\n",
    "print(last_name)"
   ]
  },
  {
   "cell_type": "code",
   "execution_count": 38,
   "id": "5fe1991a-d7de-45fa-9e18-720705899839",
   "metadata": {},
   "outputs": [
    {
     "name": "stdout",
     "output_type": "stream",
     "text": [
      "Narayan Adhude\n"
     ]
    }
   ],
   "source": [
    "# ( end = \" \" ) Is Used To set Text In One Line \n",
    "print(first_name , end = \" \")\n",
    "print(last_name)"
   ]
  },
  {
   "cell_type": "code",
   "execution_count": 41,
   "id": "456e3386-50da-4e53-9218-61febc810a0e",
   "metadata": {},
   "outputs": [
    {
     "name": "stdin",
     "output_type": "stream",
     "text": [
      " Enter The Number :   60\n",
      " Enter The Number :  50\n"
     ]
    },
    {
     "name": "stdout",
     "output_type": "stream",
     "text": [
      " The Addition Is : 110\n",
      " The Substraction  Is : 10\n",
      " The Multiplication Is : 3000\n",
      " The Division Is : 1.2\n",
      " The Modulus Is : 10\n"
     ]
    }
   ],
   "source": [
    "         a = int(input(\" Enter The Number :  \") )\n",
    "         b = int(input(\" Enter The Number : \" ) )\n",
    "         print(\" The Addition Is :\" , a + b ) # Addition \n",
    "         print(\" The Substraction  Is :\" , a - b ) \n",
    "         print(\" The Multiplication Is :\" , a * b )\n",
    "         print(\" The Division Is :\" , a / b )\n",
    "         print(\" The Modulus Is :\" , a % b )"
   ]
  },
  {
   "cell_type": "code",
   "execution_count": 60,
   "id": "db9a97c1-8427-45a5-aa52-073467e1545b",
   "metadata": {},
   "outputs": [
    {
     "name": "stdout",
     "output_type": "stream",
     "text": [
      "10|20|5.7|"
     ]
    }
   ],
   "source": [
    "a,b,c = \"10\" , 20, 5.7\n",
    "print(a,b,c,sep = \"|\" , end = \"|\" ) "
   ]
  },
  {
   "cell_type": "code",
   "execution_count": 61,
   "id": "e0636d53-74be-437b-a140-ed9c01d2414e",
   "metadata": {},
   "outputs": [
    {
     "name": "stdout",
     "output_type": "stream",
     "text": [
      "20 20 20 20\n"
     ]
    }
   ],
   "source": [
    "p1 = p2 = p3 = p4 = 20 \n",
    "print(p1,p2,p3,p4)"
   ]
  },
  {
   "cell_type": "code",
   "execution_count": 62,
   "id": "49a8ecbf-c03a-47a5-8073-39479110979b",
   "metadata": {},
   "outputs": [
    {
     "name": "stdout",
     "output_type": "stream",
     "text": [
      "140720468405272\n",
      "140720468405272\n"
     ]
    }
   ],
   "source": [
    "print(id(p1))\n",
    "print(id(p2))"
   ]
  },
  {
   "cell_type": "code",
   "execution_count": 71,
   "id": "b4642056-e933-4c48-bcd2-cf987547f55c",
   "metadata": {},
   "outputs": [
    {
     "name": "stdout",
     "output_type": "stream",
     "text": [
      "Narayan Adhude\n",
      " My First Namre Is  Narayan  My Last name Is  Adhude\n"
     ]
    }
   ],
   "source": [
    "print(first_name,last_name)\n",
    "print(\" My First Namre Is \" , first_name , \" My Last name Is \" , last_name ) ;"
   ]
  },
  {
   "cell_type": "code",
   "execution_count": 77,
   "id": "babfade8-e436-4c7c-8170-251502636681",
   "metadata": {},
   "outputs": [
    {
     "name": "stdout",
     "output_type": "stream",
     "text": [
      " My First Namre Is : Narayan My Last name Is :  Adhude \n",
      " My First Name Is : Adhude My Last name Is :  Narayan \n",
      " My First Namre Is : Narayan My Last name Is :  Adhude \n"
     ]
    }
   ],
   "source": [
    "# Format Method \n",
    "print(\" My First Namre Is : {} My Last name Is :  {} \" .format(first_name , last_name) ) \n",
    "# Changing Index Number \n",
    "print(\" My First Name Is : {1} My Last name Is :  {0} \" .format(first_name , last_name) ) \n",
    "# f-String\n",
    "print(f\" My First Namre Is : {first_name} My Last name Is :  {last_name} \" ) ;"
   ]
  },
  {
   "cell_type": "markdown",
   "id": "8f59c26f-7f3d-4897-8424-09b85af9d09e",
   "metadata": {},
   "source": [
    " # * Data Types In Python :\n",
    " ### 1.Integer \n",
    " ### 2.Float\n",
    " ### 3.Boolean\n",
    " ### 4.String \n",
    "  ## Sequenced Data Types : \n",
    " ### 1.List : It Can Be Change ( Mutable )\n",
    " ### 2.Tuple : It Cannot Be Changed ( Immutable )\n",
    " ### 3.Range "
   ]
  },
  {
   "cell_type": "code",
   "execution_count": 86,
   "id": "1cffbf8e-5cb3-4d7c-96dc-49a06c229ef9",
   "metadata": {},
   "outputs": [
    {
     "name": "stdout",
     "output_type": "stream",
     "text": [
      "<class 'int'>\n",
      "<class 'float'>\n",
      "<class 'bool'>\n",
      "<class 'complex'>\n",
      "<class 'list'>\n",
      "<class 'tuple'>\n",
      "[1, 2, 3, 4]\n"
     ]
    }
   ],
   "source": [
    " # Numerical data Types \n",
    "x = 10      # Integer \n",
    "print(type(x))\n",
    "\n",
    "y = 50.23 # Float \n",
    "print(type(y))\n",
    "\n",
    "c = True \n",
    "print(type(c))\n",
    "\n",
    "d = 5j\n",
    "print(type(d))\n",
    "\n",
    " # Sequenced Data Types \n",
    "my_list = [20,50,\"40\",50,60,90.5] \n",
    "print(type(my_list))\n",
    "\n",
    "my_tuple = ( 1,2,3,4)\n",
    "print(type(my_tuple))\n",
    "\n",
    "my_range = range( 1,5)\n",
    "print(list(my_range))"
   ]
  },
  {
   "cell_type": "code",
   "execution_count": 84,
   "id": "ddeadd11-9dfc-434d-9c8c-65a261d90e3d",
   "metadata": {},
   "outputs": [
    {
     "name": "stdout",
     "output_type": "stream",
     "text": [
      "[20, 50, 30, 50, 60, 90.5]\n"
     ]
    }
   ],
   "source": [
    " my_list [2] = 30 \n",
    "print(my_list) # Mutable But In Case Of Tuple It Cannot Be Done ."
   ]
  },
  {
   "cell_type": "code",
   "execution_count": null,
   "id": "ebe5d68a-fabd-4d6d-be15-c83f467bd531",
   "metadata": {},
   "outputs": [],
   "source": []
  }
 ],
 "metadata": {
  "kernelspec": {
   "display_name": "Python 3 (ipykernel)",
   "language": "python",
   "name": "python3"
  },
  "language_info": {
   "codemirror_mode": {
    "name": "ipython",
    "version": 3
   },
   "file_extension": ".py",
   "mimetype": "text/x-python",
   "name": "python",
   "nbconvert_exporter": "python",
   "pygments_lexer": "ipython3",
   "version": "3.12.7"
  }
 },
 "nbformat": 4,
 "nbformat_minor": 5
}
