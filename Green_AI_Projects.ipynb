{
 "cells": [
  {
   "cell_type": "code",
   "execution_count": 4,
   "id": "3d9ef530-8ff1-4030-a209-8da9f3a8f02c",
   "metadata": {},
   "outputs": [
    {
     "name": "stdout",
     "output_type": "stream",
     "text": [
      "                          *********** Mini Calculator ***********                         \n",
      "\n",
      " ** Select Operation : \n",
      "1. Addition \n",
      "2. Substraction  \n",
      "3. Multiplication\n",
      "4. Division \n",
      "5. Modules \n",
      " Type 'Exit' to quit.\n"
     ]
    },
    {
     "name": "stdin",
     "output_type": "stream",
     "text": [
      "\n",
      "Enter The Choice(1/2/3/4/5):  Exit\n"
     ]
    },
    {
     "name": "stdout",
     "output_type": "stream",
     "text": [
      "            ************************* Thank You ... ****************************  \n"
     ]
    }
   ],
   "source": [
    "# Mini Project Of Calculator\n",
    "print(\"                          *********** Mini Calculator ***********                         \")\n",
    "\n",
    "def add(x,y):\n",
    "    return x + y \n",
    "    \n",
    "def sub(x,y):\n",
    "    return x - y \n",
    "\n",
    "def mul(x,y):\n",
    "    return x * y\n",
    "\n",
    "def div(x,y):\n",
    "    return x / y\n",
    "\n",
    "def modulo(x,y):\n",
    "    return x % y\n",
    "while True:\n",
    "    #print(\"                               *** Mini Calculator ***                         \")\n",
    "    print(\"\\n ** Select Operation : \")\n",
    "    print(\"1. Addition \")\n",
    "    print(\"2. Substraction  \")\n",
    "    print(\"3. Multiplication\")\n",
    "    print(\"4. Division \")\n",
    "    print(\"5. Modules \")\n",
    "    print(\" Type 'Exit' to quit.\")\n",
    "    \n",
    "    choice = input(\"\\nEnter The Choice(1/2/3/4/5): \")\n",
    "\n",
    "    if choice == 'Exit':\n",
    "        print(\"            ************************* Thank You ... ****************************  \"   )\n",
    "        break\n",
    "        \n",
    "    if choice in ('1', '2', '3', '4'):\n",
    "        try:\n",
    "            num1 = float(input(\"Enter first number: \"))\n",
    "            num2 = float(input(\"Enter second number: \"))\n",
    "\n",
    "            if choice == '1':\n",
    "                print(\"Result:\", add(num1, num2))\n",
    "            elif choice == '2':\n",
    "                print(\"Result:\", sub(num1, num2))\n",
    "            elif choice == '3':\n",
    "                print(\"Result:\", mul(num1, num2))\n",
    "            elif choice == '4':\n",
    "                print(\"Result:\", divide(num1, num2))\n",
    "            elif choice == '5':\n",
    "                print(\"Result:\", modules(num1, num2))\n",
    "        except ValueError:\n",
    "            print(\"Invalid number. Please try again.\")\n",
    "    else:\n",
    "        print(\"Invalid input. Please select a valid operation.\")"
   ]
  },
  {
   "cell_type": "code",
   "execution_count": null,
   "id": "2a3ea2a8-7e06-4713-85fd-7358e25631bb",
   "metadata": {},
   "outputs": [],
   "source": []
  }
 ],
 "metadata": {
  "kernelspec": {
   "display_name": "Python 3 (ipykernel)",
   "language": "python",
   "name": "python3"
  },
  "language_info": {
   "codemirror_mode": {
    "name": "ipython",
    "version": 3
   },
   "file_extension": ".py",
   "mimetype": "text/x-python",
   "name": "python",
   "nbconvert_exporter": "python",
   "pygments_lexer": "ipython3",
   "version": "3.12.7"
  }
 },
 "nbformat": 4,
 "nbformat_minor": 5
}
