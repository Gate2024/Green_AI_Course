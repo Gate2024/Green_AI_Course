{
 "cells": [
  {
   "cell_type": "markdown",
   "id": "03d71510-044b-4cfd-9c44-8415392e6a0f",
   "metadata": {},
   "source": [
    "# .............................................. DAY_2 ..............................................................."
   ]
  },
  {
   "cell_type": "markdown",
   "id": "0bd6c07a-3682-480b-9aee-adb145701ff6",
   "metadata": {},
   "source": [
    "  # *List Methods : \n",
    "  ### 1.Append() "
   ]
  },
  {
   "cell_type": "code",
   "execution_count": 14,
   "id": "b8287661-f701-4225-94ae-4e6ef93ca548",
   "metadata": {},
   "outputs": [
    {
     "name": "stdout",
     "output_type": "stream",
     "text": [
      "6\n",
      "[1, 2, 'Three', 4.5, True, False, 100]\n"
     ]
    }
   ],
   "source": [
    " mylist = [1,2,\"Three\",4.5,True,False]\n",
    " print(len(mylist))\n",
    " mylist.append(100) # Append() Is Used For The Add The Element At The Last \n",
    " print(mylist)"
   ]
  },
  {
   "cell_type": "code",
   "execution_count": 15,
   "id": "97bbc0d8-30b1-49a6-9b99-ffc3cca75303",
   "metadata": {},
   "outputs": [
    {
     "name": "stdout",
     "output_type": "stream",
     "text": [
      "7\n"
     ]
    }
   ],
   "source": [
    "print(len(mylist))"
   ]
  },
  {
   "cell_type": "code",
   "execution_count": 17,
   "id": "8d3284ae-8dfa-48a7-88b0-efeb3dcbf124",
   "metadata": {},
   "outputs": [
    {
     "name": "stdout",
     "output_type": "stream",
     "text": [
      "[1, 2, 'Three', 4.5, True, False, 100, [500, 55.5]]\n",
      "8\n"
     ]
    }
   ],
   "source": [
    "mylist.append([500,55.5]) # add The New List Object At The Last Of The List \n",
    "print(mylist)\n",
    "print(len(mylist))"
   ]
  },
  {
   "cell_type": "code",
   "execution_count": 18,
   "id": "0e463a19-dbae-4f76-b52a-d039b17f5bb1",
   "metadata": {},
   "outputs": [
    {
     "name": "stdout",
     "output_type": "stream",
     "text": [
      "[1, 2, 'Iceem', 'Three', 4.5, True, False, 100, [500, 55.5]]\n"
     ]
    }
   ],
   "source": [
    "mylist.insert(2,\"Iceem\") # This Add The Element Insted Of The Given Index \n",
    "print(mylist)"
   ]
  },
  {
   "cell_type": "code",
   "execution_count": 19,
   "id": "8b7693ea-1541-4be5-b81f-3eec377843da",
   "metadata": {},
   "outputs": [
    {
     "data": {
      "text/plain": [
       "'Three'"
      ]
     },
     "execution_count": 19,
     "metadata": {},
     "output_type": "execute_result"
    }
   ],
   "source": [
    "mylist.pop(3)"
   ]
  },
  {
   "cell_type": "code",
   "execution_count": 21,
   "id": "5adcf3da-5f8e-4858-9012-9b97df235330",
   "metadata": {},
   "outputs": [
    {
     "name": "stdout",
     "output_type": "stream",
     "text": [
      "[1, 2, 'Iceem', 4.5, True, False]\n"
     ]
    }
   ],
   "source": [
    "mylist.pop()\n",
    "print(mylist)"
   ]
  },
  {
   "cell_type": "code",
   "execution_count": 28,
   "id": "83d5feed-2f2e-41bd-9d9f-1b859254c604",
   "metadata": {},
   "outputs": [],
   "source": [
    "mylist.append([55,56])"
   ]
  },
  {
   "cell_type": "code",
   "execution_count": 35,
   "id": "69962df2-e7fd-43a2-b202-ff415ea45006",
   "metadata": {},
   "outputs": [
    {
     "name": "stdout",
     "output_type": "stream",
     "text": [
      "[2, 4.5, [55, 56]]\n"
     ]
    }
   ],
   "source": [
    "mylist.remove(True)\n",
    "print(mylist)"
   ]
  },
  {
   "cell_type": "code",
   "execution_count": 36,
   "id": "e4253f06-0b67-4aca-a9ac-2b2e8df94a38",
   "metadata": {},
   "outputs": [
    {
     "data": {
      "text/plain": [
       "[2, 4.5, [55, 56]]"
      ]
     },
     "execution_count": 36,
     "metadata": {},
     "output_type": "execute_result"
    }
   ],
   "source": [
    "new_list = mylist.copy()\n",
    "new_list"
   ]
  },
  {
   "cell_type": "code",
   "execution_count": 41,
   "id": "ffea763a-18e0-4e8e-bd08-11b744e3a65f",
   "metadata": {},
   "outputs": [
    {
     "data": {
      "text/plain": [
       "['A', 'B', 2, 4.5, [55, 56]]"
      ]
     },
     "execution_count": 41,
     "metadata": {},
     "output_type": "execute_result"
    }
   ],
   "source": [
    "new_list = [\"A\",\"B\"]\n",
    "another_list = new_list + mylist \n",
    "another_list"
   ]
  },
  {
   "cell_type": "code",
   "execution_count": 42,
   "id": "67cd09fb-dfde-4d6c-9685-efef2403dc62",
   "metadata": {},
   "outputs": [
    {
     "data": {
      "text/plain": [
       "['A', 'B', 2, 4.5, [55, 56], '50', '60']"
      ]
     },
     "execution_count": 42,
     "metadata": {},
     "output_type": "execute_result"
    }
   ],
   "source": [
    "new_list_1 = [\"50\",\"60\"]\n",
    "another_list.extend(new_list_1)\n",
    "another_list"
   ]
  },
  {
   "cell_type": "code",
   "execution_count": 43,
   "id": "dcfaac1c-3697-4bc5-bc18-5420400ab5ae",
   "metadata": {},
   "outputs": [
    {
     "data": {
      "text/plain": [
       "[]"
      ]
     },
     "execution_count": 43,
     "metadata": {},
     "output_type": "execute_result"
    }
   ],
   "source": [
    " another_list.clear () \n",
    " another_list"
   ]
  },
  {
   "cell_type": "markdown",
   "id": "8ac1c6bb-88ec-4834-9e34-ae34b3703101",
   "metadata": {},
   "source": [
    " # *Strings :\n",
    " ### 1.Quotation Is Important For The Strings (\"\")"
   ]
  },
  {
   "cell_type": "code",
   "execution_count": 44,
   "id": "64a0f64a-6e18-4748-925b-3abfc1aea337",
   "metadata": {},
   "outputs": [
    {
     "name": "stdout",
     "output_type": "stream",
     "text": [
      "<class 'str'>\n",
      " iceem is a college  \n",
      " ICEEM IS A COLLEGE  \n",
      " Iceem Is A College  \n",
      " iceem is a college  \n"
     ]
    }
   ],
   "source": [
    " #String Methods \n",
    " str_1 = \" iceem is a college  \" \n",
    " print(type(str_1))\n",
    " print(str_1.lower())\n",
    " print(str_1.upper())\n",
    " print(str_1.title())\n",
    " print(str_1.capitalize())\n",
    "\n",
    " "
   ]
  },
  {
   "cell_type": "code",
   "execution_count": 65,
   "id": "d2de5bc3-c882-428b-b3e2-2c78ddb11499",
   "metadata": {},
   "outputs": [
    {
     "name": "stdout",
     "output_type": "stream",
     "text": [
      "Nyrayan\n"
     ]
    }
   ],
   "source": [
    " # Replace Method \n",
    "str_2 = \"Narayan\" \n",
    "str_2 = str_2.replace(\"a\" , \"y\",1)\n",
    "print(str_2)\n",
    "\n"
   ]
  },
  {
   "cell_type": "code",
   "execution_count": 66,
   "id": "945baf88-8b32-4803-a486-bc75170fc33b",
   "metadata": {},
   "outputs": [
    {
     "data": {
      "text/plain": [
       "2"
      ]
     },
     "execution_count": 66,
     "metadata": {},
     "output_type": "execute_result"
    }
   ],
   "source": [
    "str_3 = \" Narayan Is A Student Of Dr.Bamu Of Iceem  \" \n",
    "str_3.count(\"Of\")"
   ]
  },
  {
   "cell_type": "code",
   "execution_count": 69,
   "id": "88c7d46a-890a-4cb6-b9eb-7117bf312037",
   "metadata": {},
   "outputs": [
    {
     "name": "stdout",
     "output_type": "stream",
     "text": [
      "True\n",
      "False\n",
      "True\n",
      "False\n"
     ]
    }
   ],
   "source": [
    "print(str_2.startswith(\"N\"))\n",
    "print(str_2.startswith(\"n\"))\n",
    "print(str_2.endswith(\"n\"))\n",
    "print(str_2.endswith(\"N\"))"
   ]
  },
  {
   "cell_type": "code",
   "execution_count": 84,
   "id": "5f17cca3-3d55-4561-8260-eabdbf6a9ae0",
   "metadata": {},
   "outputs": [
    {
     "name": "stdout",
     "output_type": "stream",
     "text": [
      "['Iceem', 'Is', 'A', 'Engineering', '&', 'Polytechnic', 'college']\n",
      "['Iceem Is A Engineering ', ' Polytechnic college']\n"
     ]
    }
   ],
   "source": [
    "# Split \n",
    "str_4 = (\"Iceem Is A Engineering & Polytechnic college\" )\n",
    "print(str_4.split())\n",
    "print(str_4.split(\"&\"))\n"
   ]
  },
  {
   "cell_type": "code",
   "execution_count": 85,
   "id": "bf2f59fc-d5e4-4c9a-9710-1fed129a7fbe",
   "metadata": {},
   "outputs": [
    {
     "name": "stdout",
     "output_type": "stream",
     "text": [
      "False\n",
      "True\n",
      "False\n",
      "False\n"
     ]
    }
   ],
   "source": [
    "str_5 = \"123456\"\n",
    "print(str_5.isalpha()) # It Checks Every Elements Is Alphabet Or Not \n",
    "print(str_5.isalnum()) # It Checks Every Elements Is Number  Or Not \n",
    "print(str_5.islower()) # It Coverts All Upper Cases Into In Lower Cases \n",
    "print(str_5.isupper()) # It Coverts All Lower  Cases Into In Upper Cases "
   ]
  },
  {
   "cell_type": "markdown",
   "id": "932d277d-6827-478e-b399-f1e756cd359c",
   "metadata": {},
   "source": [
    "# *Indexing :  Positiion Of Elements "
   ]
  },
  {
   "cell_type": "code",
   "execution_count": 92,
   "id": "8083c234-d5dd-499b-8350-05cc384ac744",
   "metadata": {},
   "outputs": [
    {
     "name": "stdout",
     "output_type": "stream",
     "text": [
      "a\n",
      "n\n",
      "Engineering & Poly\n",
      "Engineering & Poly\n",
      "Egneig&Pl\n",
      "cinhcetyloP\n",
      " Polytechni\n"
     ]
    }
   ],
   "source": [
    "str_6 = \"Narayan\"\n",
    "print(str_6[1]) # Print From The According To Index\n",
    "print(str_6[-1]) # Print From The Last according To Index\n",
    "print(str_4[11:29]) # Print In Between The Given Index\n",
    "print(str_4[11:29:1]) # Print Each & Every Eklement Of Given Index \n",
    "print(str_4[11:29:2]) # It Ignored The Every Second Element Of Given Endex \n",
    "print(str_4[-9:-20:-1]) # Prints Is Reverse Order \n",
    "print(str_4[-20:-9:1])"
   ]
  },
  {
   "cell_type": "markdown",
   "id": "b420b8f2-06f1-4809-9a58-aeae0a8d4219",
   "metadata": {},
   "source": [
    "### **** Palindrome String *****"
   ]
  },
  {
   "cell_type": "code",
   "execution_count": 98,
   "id": "0e1b96bd-6478-4237-b533-abd2d2ce4c3f",
   "metadata": {},
   "outputs": [
    {
     "data": {
      "text/plain": [
       "True"
      ]
     },
     "execution_count": 98,
     "metadata": {},
     "output_type": "execute_result"
    }
   ],
   "source": [
    " str_7 = \"MADAM\"\n",
    " str_7 == str_7[::-1]"
   ]
  },
  {
   "cell_type": "code",
   "execution_count": 100,
   "id": "e9d2f5b6-1183-4583-a92e-68ca1bcb2ab3",
   "metadata": {},
   "outputs": [
    {
     "name": "stdout",
     "output_type": "stream",
     "text": [
      " It Is a Palindrome \n"
     ]
    }
   ],
   "source": [
    " if str_7 == str_7[::-1] :\n",
    "   print (\" It Is a Palindrome \" )\n",
    "else : \n",
    "    print(\" It Is Not A Palindrome \" )"
   ]
  },
  {
   "cell_type": "markdown",
   "id": "833dda28-9b3d-4b54-a135-82b457eaccb8",
   "metadata": {},
   "source": [
    " ### ******* Dictionary ****** \n",
    " #### --> It is Collection Of  Data in Form Of Key Value And Pairs "
   ]
  },
  {
   "cell_type": "code",
   "execution_count": 121,
   "id": "dac4c86d-430d-436f-92a5-f54819260d71",
   "metadata": {},
   "outputs": [
    {
     "name": "stdout",
     "output_type": "stream",
     "text": [
      "2\n",
      " Narayan \n"
     ]
    }
   ],
   "source": [
    "my_student = {\"Name\": \"Narayan\", \"Age\":23 }\n",
    "print(len(my_student))\n",
    "print(my_student[\"Name\"])\n",
    "\n"
   ]
  },
  {
   "cell_type": "code",
   "execution_count": 119,
   "id": "27285b68-4ec3-4bb5-ba2a-27db6a35dc84",
   "metadata": {},
   "outputs": [
    {
     "name": "stdout",
     "output_type": "stream",
     "text": [
      "22\n",
      "Sanchit Umbarkar\n"
     ]
    }
   ],
   "source": [
    "\n",
    " college_students = {\n",
    "    \"Student_1\": {\"Name\": \"Dinesh Kawade\", \"Age\": 21},\n",
    "    \"Student_2\": {\"Name\": \"Sanchit Umbarkar\", \"Age\": 22}\n",
    "                          }\n",
    "\n",
    "    print(college_students[\"Student_2\"][\"Age\"])\n",
    "    print(college_students[\"Student_2\"][\"Name\"])\n"
   ]
  },
  {
   "cell_type": "code",
   "execution_count": 127,
   "id": "b1323f9f-5070-4874-8ef7-7c372b05ac85",
   "metadata": {},
   "outputs": [
    {
     "data": {
      "text/plain": [
       "dict_keys(['Student_1', 'Student_2'])"
      ]
     },
     "execution_count": 127,
     "metadata": {},
     "output_type": "execute_result"
    }
   ],
   "source": [
    "college_students.keys()\n"
   ]
  },
  {
   "cell_type": "code",
   "execution_count": 128,
   "id": "3b1b4d08-19a0-4df2-95cd-54a378cafbb0",
   "metadata": {},
   "outputs": [
    {
     "data": {
      "text/plain": [
       "dict_values([{'Name': 'Dinesh Kawade', 'Age': 21}, {'Name': 'Sanchit Umbarkar', 'Age': 22}])"
      ]
     },
     "execution_count": 128,
     "metadata": {},
     "output_type": "execute_result"
    }
   ],
   "source": [
    "college_students.values()\n"
   ]
  },
  {
   "cell_type": "code",
   "execution_count": 129,
   "id": "cdd0ecd0-2496-4cb0-8809-f02a86d565cd",
   "metadata": {},
   "outputs": [
    {
     "data": {
      "text/plain": [
       "dict_items([('Student_1', {'Name': 'Dinesh Kawade', 'Age': 21}), ('Student_2', {'Name': 'Sanchit Umbarkar', 'Age': 22})])"
      ]
     },
     "execution_count": 129,
     "metadata": {},
     "output_type": "execute_result"
    }
   ],
   "source": [
    "college_students.items()\n"
   ]
  },
  {
   "cell_type": "markdown",
   "id": "e16d037f-9f2c-4287-98ee-979b994d238d",
   "metadata": {},
   "source": [
    " ## ************ Set ************\n",
    "  ### 1.It Does Not allow Duplicate Elements \n",
    "  ### 2. The Element  Is Unordered \n",
    "  ### 2. IT Randomly Works ( Ordered Not Be Maintain ) "
   ]
  },
  {
   "cell_type": "code",
   "execution_count": 130,
   "id": "85112063-e2f5-4ee4-8b8a-ed867b90e58a",
   "metadata": {},
   "outputs": [
    {
     "name": "stdout",
     "output_type": "stream",
     "text": [
      "{1, 2, 3, 4, 5, 6, 7, 8, 9}\n"
     ]
    }
   ],
   "source": [
    "  my_set = {1,2,3,4,5,6,7,8,9}\n",
    "  print(my_set)"
   ]
  },
  {
   "cell_type": "markdown",
   "id": "9dd67c47-02b1-4f4a-917c-e35957c12dab",
   "metadata": {},
   "source": [
    "   ### *** Set Methods *** "
   ]
  },
  {
   "cell_type": "code",
   "execution_count": 131,
   "id": "930e6ec4-aa8c-42b3-86b2-3f3da433b7ce",
   "metadata": {},
   "outputs": [
    {
     "name": "stdout",
     "output_type": "stream",
     "text": [
      "{1, 2, 3, 4, 5, 6, 7, 8, 9, 50}\n"
     ]
    }
   ],
   "source": [
    "my_set.add(50)\n",
    "print(my_set)"
   ]
  },
  {
   "cell_type": "code",
   "execution_count": 132,
   "id": "afee0f07-44a2-4d63-b1fc-5b5038320d0d",
   "metadata": {},
   "outputs": [
    {
     "name": "stdout",
     "output_type": "stream",
     "text": [
      "{1, 2, 3, 4, 5, 6, 7, 8, 9, 70, 80, 50, 60}\n"
     ]
    }
   ],
   "source": [
    "my_set.update( [60,70,80] )\n",
    "print(my_set)"
   ]
  },
  {
   "cell_type": "code",
   "execution_count": 133,
   "id": "14fb3216-48fb-48c9-8946-e352cf283eb2",
   "metadata": {},
   "outputs": [
    {
     "name": "stdout",
     "output_type": "stream",
     "text": [
      "{1, 2, 3, 4, 5, 6, 7, 8, 9, 70, 50, 60}\n",
      "{1, 2, 3, 4, 5, 6, 7, 8, 9, 70, 50, 60}\n"
     ]
    }
   ],
   "source": [
    "my_set.remove(80) # It Gives The Error Ater Element Is Not Finds Into The Datset \n",
    "print(my_set)\n",
    "my_set.discard(80) # In Not Gives Not Error In The Dataset After The elements Dataset Is Not Found\n",
    "print(my_set)"
   ]
  },
  {
   "cell_type": "markdown",
   "id": "cdd95422-90c8-4f0a-bc2a-b66258c1dc43",
   "metadata": {},
   "source": [
    " # ********************* Conditional Statements *****************************\n",
    "  ### 1. If Statement\n",
    "  ### 2. If-Else Statement\n",
    "  ### 3. Nested-If Statement"
   ]
  },
  {
   "cell_type": "code",
   "execution_count": 137,
   "id": "944b5054-d4b2-4fae-b9f8-f9d570e20db3",
   "metadata": {},
   "outputs": [
    {
     "name": "stdout",
     "output_type": "stream",
     "text": [
      "X is equal to 10\n"
     ]
    }
   ],
   "source": [
    " # If-Else Conditional Statemnet\n",
    "x = 10\n",
    "if x == 10:\n",
    "    print(\"X is equal to 10\")\n",
    "else:\n",
    "    print(\"X Is Not Equal To 10\")"
   ]
  },
  {
   "cell_type": "code",
   "execution_count": 150,
   "id": "49422c47-b1b8-4565-998d-9d33917caa8b",
   "metadata": {},
   "outputs": [
    {
     "name": "stdin",
     "output_type": "stream",
     "text": [
      "Enter The Student Age:  20\n"
     ]
    },
    {
     "name": "stdout",
     "output_type": "stream",
     "text": [
      "Student Is Adult\n"
     ]
    }
   ],
   "source": [
    "student_age = int(input(\"Enter The Student Age: \"))\n",
    "\n",
    "if student_age > 18:\n",
    "    print(\"Student Is Adult\")\n",
    "else:\n",
    "    print(\"Student is Minor\")\n"
   ]
  },
  {
   "cell_type": "code",
   "execution_count": 161,
   "id": "4d628b8d-a973-404f-aa6e-0514667078b6",
   "metadata": {},
   "outputs": [
    {
     "name": "stdin",
     "output_type": "stream",
     "text": [
      " Enter Your Name :  ICEEM\n",
      "Enter Your Pin : Iceem@123\n"
     ]
    },
    {
     "name": "stdout",
     "output_type": "stream",
     "text": [
      "Welcome To The Iceem\n"
     ]
    }
   ],
   "source": [
    "# Nested If_Else Statement\n",
    "user_name_input = input(\" Enter Your Name : \")\n",
    "if user_name_input.upper() == \"ICEEM\":\n",
    "    user_pin = (input(\"Enter Your Pin :\"))\n",
    "    if user_pin == \"Iceem@123\":\n",
    "       print(\"Welcome To The Iceem\")\n",
    "else:\n",
    "    print(\"Invalid User\")"
   ]
  },
  {
   "cell_type": "code",
   "execution_count": 4,
   "id": "7ee98082-fbbd-4f35-bc18-5b018fed5461",
   "metadata": {},
   "outputs": [
    {
     "name": "stdin",
     "output_type": "stream",
     "text": [
      "Enter Your Email/Phone:  7030503039\n",
      "Enter Your Password:  Neet@2022\n"
     ]
    },
    {
     "name": "stdout",
     "output_type": "stream",
     "text": [
      "Login Successfully!...\n"
     ]
    }
   ],
   "source": [
    "   # Login Form\n",
    "   user_email_or_phone_no = input(\"Enter Your Email/Phone: \")\n",
    "\n",
    "if user_email_or_phone_no == \"narayanadhude2004@gmail.com\" or user_email_or_phone_no == \"7030503039\":\n",
    "    user_passwd = input(\"Enter Your Password: \")\n",
    "    if user_passwd == \"Neet@2022\":\n",
    "        print(\"Login Successfully!...\")\n",
    "    else:\n",
    "        print(\"Invalid Password\")\n",
    "else:\n",
    "    print(\"Invalid User\")\n"
   ]
  },
  {
   "cell_type": "markdown",
   "id": "b5224405-1a6e-41c5-81eb-0cbe81e7b470",
   "metadata": {},
   "source": [
    "### ***** Loops ******\n",
    "### 1. For Loop\n",
    "### 2. While Loop"
   ]
  },
  {
   "cell_type": "code",
   "execution_count": 6,
   "id": "010ea0ff-56a0-40d3-8af5-0524ab9e6664",
   "metadata": {},
   "outputs": [
    {
     "name": "stdout",
     "output_type": "stream",
     "text": [
      " Hello\n",
      " Hello\n",
      " Hello\n"
     ]
    }
   ],
   "source": [
    "# Loops \n",
    "# 1.For Loop\n",
    "# 2.While Loop\n",
    "\n",
    "for i in range(3):\n",
    "   print ( \" Hello\")"
   ]
  },
  {
   "cell_type": "code",
   "execution_count": 8,
   "id": "707e3ae4-8969-420d-8df5-71e3057a1d9d",
   "metadata": {},
   "outputs": [
    {
     "name": "stdout",
     "output_type": "stream",
     "text": [
      " 0 Hello\n",
      " 1 Hello\n",
      " 2 Hello\n"
     ]
    }
   ],
   "source": [
    "for i in range(3):\n",
    "   print (f\" {i} Hello\")\n"
   ]
  },
  {
   "cell_type": "code",
   "execution_count": 12,
   "id": "733f9192-dc31-4bcf-9ca0-5f7d32f3a0fa",
   "metadata": {},
   "outputs": [
    {
     "name": "stdout",
     "output_type": "stream",
     "text": [
      "1\n",
      "2\n",
      "3\n",
      "4\n",
      "5\n",
      "6\n",
      "7\n",
      "8\n",
      "9\n",
      "10\n",
      "11\n",
      "12\n",
      "13\n",
      "14\n",
      "15\n",
      "16\n",
      "17\n",
      "18\n",
      "19\n",
      "20\n"
     ]
    }
   ],
   "source": [
    "# Numbers From 1 To 20\n",
    "for i in range(1,21,1):\n",
    "    print(i)\n"
   ]
  },
  {
   "cell_type": "code",
   "execution_count": 13,
   "id": "22cadced-3217-4149-8acd-027c14427aba",
   "metadata": {},
   "outputs": [
    {
     "name": "stdout",
     "output_type": "stream",
     "text": [
      "5\n",
      "10\n",
      "15\n",
      "20\n",
      "25\n",
      "30\n",
      "35\n",
      "40\n",
      "45\n",
      "50\n"
     ]
    }
   ],
   "source": [
    "# Table of 5\n",
    "for i in range(5,51,5):\n",
    "    print(i)\n"
   ]
  },
  {
   "cell_type": "code",
   "execution_count": 21,
   "id": "7eab7373-8b2d-4016-9652-664fc3c569a2",
   "metadata": {},
   "outputs": [
    {
     "name": "stdout",
     "output_type": "stream",
     "text": [
      "1\n",
      "4\n",
      "9\n",
      "16\n",
      "25\n",
      "36\n",
      "49\n",
      "64\n",
      "81\n"
     ]
    }
   ],
   "source": [
    "list_1 = [1,2,3,4,5,6,7,8,9]\n",
    "for i in list_1:\n",
    "  print(i**2)"
   ]
  },
  {
   "cell_type": "code",
   "execution_count": 39,
   "id": "cc04dbc6-8be2-4673-826f-db1a72336c10",
   "metadata": {},
   "outputs": [
    {
     "name": "stdout",
     "output_type": "stream",
     "text": [
      "Even Numbers From 1 to 101\n",
      "[0, 2, 4, 6, 8, 10, 12, 14, 16, 18, 20, 22, 24, 26, 28, 30, 32, 34, 36, 38, 40, 42, 44, 46, 48, 50, 52, 54, 56, 58, 60, 62, 64, 66, 68, 70, 72, 74, 76, 78, 80, 82, 84, 86, 88, 90, 92, 94, 96, 98, 100]\n",
      "Odd Numbers From 0 to 101\n",
      "[1, 3, 5, 7, 9, 11, 13, 15, 17, 19, 21, 23, 25, 27, 29, 31, 33, 35, 37, 39, 41, 43, 45, 47, 49, 51, 53, 55, 57, 59, 61, 63, 65, 67, 69, 71, 73, 75, 77, 79, 81, 83, 85, 87, 89, 91, 93, 95, 97, 99]\n"
     ]
    }
   ],
   "source": [
    "even_num = []\n",
    "odd_num = []\n",
    "\n",
    "for i in range(0,101):\n",
    "     if i % 2 == 0:\n",
    "         even_num.append(i)\n",
    "     else:\n",
    "         odd_num.append(i)\n",
    "         \n",
    "print(\"Even Numbers From 1 to 101\")\n",
    "print(even_num)\n",
    "print(\"Odd Numbers From 0 to 101\")\n",
    "print(odd_num)"
   ]
  },
  {
   "cell_type": "code",
   "execution_count": 63,
   "id": "f76246f8-0235-4103-9ceb-ffbfdefd86bb",
   "metadata": {},
   "outputs": [
    {
     "name": "stdout",
     "output_type": "stream",
     "text": [
      "1 * 1 = 1\t2 * 1 = 2\t3 * 1 = 3\t4 * 1 = 4\t5 * 1 = 5\t6 * 1 = 6\t7 * 1 = 7\t8 * 1 = 8\t9 * 1 = 9\t10 * 1 = 10\t\n",
      "1 * 2 = 2\t2 * 2 = 4\t3 * 2 = 6\t4 * 2 = 8\t5 * 2 = 10\t6 * 2 = 12\t7 * 2 = 14\t8 * 2 = 16\t9 * 2 = 18\t10 * 2 = 20\t\n",
      "1 * 3 = 3\t2 * 3 = 6\t3 * 3 = 9\t4 * 3 = 12\t5 * 3 = 15\t6 * 3 = 18\t7 * 3 = 21\t8 * 3 = 24\t9 * 3 = 27\t10 * 3 = 30\t\n",
      "1 * 4 = 4\t2 * 4 = 8\t3 * 4 = 12\t4 * 4 = 16\t5 * 4 = 20\t6 * 4 = 24\t7 * 4 = 28\t8 * 4 = 32\t9 * 4 = 36\t10 * 4 = 40\t\n",
      "1 * 5 = 5\t2 * 5 = 10\t3 * 5 = 15\t4 * 5 = 20\t5 * 5 = 25\t6 * 5 = 30\t7 * 5 = 35\t8 * 5 = 40\t9 * 5 = 45\t10 * 5 = 50\t\n",
      "1 * 6 = 6\t2 * 6 = 12\t3 * 6 = 18\t4 * 6 = 24\t5 * 6 = 30\t6 * 6 = 36\t7 * 6 = 42\t8 * 6 = 48\t9 * 6 = 54\t10 * 6 = 60\t\n",
      "1 * 7 = 7\t2 * 7 = 14\t3 * 7 = 21\t4 * 7 = 28\t5 * 7 = 35\t6 * 7 = 42\t7 * 7 = 49\t8 * 7 = 56\t9 * 7 = 63\t10 * 7 = 70\t\n",
      "1 * 8 = 8\t2 * 8 = 16\t3 * 8 = 24\t4 * 8 = 32\t5 * 8 = 40\t6 * 8 = 48\t7 * 8 = 56\t8 * 8 = 64\t9 * 8 = 72\t10 * 8 = 80\t\n",
      "1 * 9 = 9\t2 * 9 = 18\t3 * 9 = 27\t4 * 9 = 36\t5 * 9 = 45\t6 * 9 = 54\t7 * 9 = 63\t8 * 9 = 72\t9 * 9 = 81\t10 * 9 = 90\t\n",
      "1 * 10 = 10\t2 * 10 = 20\t3 * 10 = 30\t4 * 10 = 40\t5 * 10 = 50\t6 * 10 = 60\t7 * 10 = 70\t8 * 10 = 80\t9 * 10 = 90\t10 * 10 = 100\t\n"
     ]
    }
   ],
   "source": [
    "for i in range(1, 11):\n",
    "    for j in range(1, 11):\n",
    "        print(f\"{j} * {i:1} = {i*j:1}\", end =\"\\t\")\n",
    "    print()  \n"
   ]
  },
  {
   "cell_type": "code",
   "execution_count": 76,
   "id": "200f8231-4137-49bd-b70f-4fc2809dbf46",
   "metadata": {},
   "outputs": [
    {
     "name": "stdout",
     "output_type": "stream",
     "text": [
      "Sum = 55\n"
     ]
    }
   ],
   "source": [
    "\n",
    "total = 0\n",
    "for i in range(1, 11):\n",
    "    total += i\n",
    "print(\"Sum =\", total)"
   ]
  },
  {
   "cell_type": "code",
   "execution_count": 78,
   "id": "82b9319c-eb6f-4fe9-b794-34c1dc282b59",
   "metadata": {},
   "outputs": [
    {
     "name": "stdin",
     "output_type": "stream",
     "text": [
      " Enter The Rows :  10\n"
     ]
    },
    {
     "name": "stdout",
     "output_type": "stream",
     "text": [
      "\n",
      "* \n",
      "* * \n",
      "* * * \n",
      "* * * * \n",
      "* * * * * \n",
      "* * * * * * \n",
      "* * * * * * * \n",
      "* * * * * * * * \n",
      "* * * * * * * * * \n",
      "* * * * * * * * * * \n"
     ]
    }
   ],
   "source": [
    " # Star Pattern \n",
    " rows = int(input(\" Enter The Rows : \"))\n",
    "\n",
    "for i in range(rows+1):\n",
    "    for j in range(1,i+1):\n",
    "        print(\"*\",end =\" \")\n",
    "    print()"
   ]
  },
  {
   "cell_type": "code",
   "execution_count": 7,
   "id": "0fba7f78-6a8f-45ab-b111-e591a27be7d3",
   "metadata": {},
   "outputs": [
    {
     "name": "stdout",
     "output_type": "stream",
     "text": [
      "5\n",
      "10\n",
      "15\n",
      "20\n",
      "25\n",
      "30\n",
      "35\n",
      "40\n",
      "45\n",
      "50\n"
     ]
    }
   ],
   "source": [
    "# While Loop \n",
    "# Table of 5 Using while Loop\n",
    "x = 1\n",
    "\n",
    "while x <= 10:\n",
    "    print(x*5)\n",
    "    x += 1\n",
    "\n"
   ]
  },
  {
   "cell_type": "markdown",
   "id": "3a6eeac6-4d3f-4d8f-afc0-945a037a55da",
   "metadata": {},
   "source": [
    "### ************* Guess Game ************"
   ]
  },
  {
   "cell_type": "code",
   "execution_count": 12,
   "id": "4a5c851c-11fb-4c29-99ee-4b48fdf85089",
   "metadata": {},
   "outputs": [],
   "source": []
  },
  {
   "cell_type": "code",
   "execution_count": 18,
   "id": "f7c063c6-7cab-4475-8281-4b57ebf06ec7",
   "metadata": {},
   "outputs": [
    {
     "name": "stdin",
     "output_type": "stream",
     "text": [
      " Enter The Number :  5\n"
     ]
    },
    {
     "name": "stdout",
     "output_type": "stream",
     "text": [
      "Low\n"
     ]
    },
    {
     "name": "stdin",
     "output_type": "stream",
     "text": [
      " Enter The Number :  8\n"
     ]
    },
    {
     "name": "stdout",
     "output_type": "stream",
     "text": [
      "Low\n"
     ]
    },
    {
     "name": "stdin",
     "output_type": "stream",
     "text": [
      " Enter The Number :  9\n"
     ]
    },
    {
     "name": "stdout",
     "output_type": "stream",
     "text": [
      "Low\n"
     ]
    },
    {
     "name": "stdin",
     "output_type": "stream",
     "text": [
      " Enter The Number :  10\n"
     ]
    },
    {
     "name": "stdout",
     "output_type": "stream",
     "text": [
      "Low\n"
     ]
    },
    {
     "name": "stdin",
     "output_type": "stream",
     "text": [
      " Enter The Number :  50\n"
     ]
    },
    {
     "name": "stdout",
     "output_type": "stream",
     "text": [
      "Low\n"
     ]
    },
    {
     "name": "stdin",
     "output_type": "stream",
     "text": [
      " Enter The Number :  75\n"
     ]
    },
    {
     "name": "stdout",
     "output_type": "stream",
     "text": [
      "Too high\n"
     ]
    },
    {
     "name": "stdin",
     "output_type": "stream",
     "text": [
      " Enter The Number :  60\n"
     ]
    },
    {
     "name": "stdout",
     "output_type": "stream",
     "text": [
      "Too high\n"
     ]
    },
    {
     "name": "stdin",
     "output_type": "stream",
     "text": [
      " Enter The Number :  55\n"
     ]
    },
    {
     "name": "stdout",
     "output_type": "stream",
     "text": [
      "Too high\n"
     ]
    },
    {
     "name": "stdin",
     "output_type": "stream",
     "text": [
      " Enter The Number :  52\n"
     ]
    },
    {
     "name": "stdout",
     "output_type": "stream",
     "text": [
      "You Guess it in 9 attempts\n"
     ]
    }
   ],
   "source": [
    "import random\n",
    "secret_number = random.randint(1,100)\n",
    "guess = None \n",
    "attempts = 0\n",
    "\n",
    "while guess != secret_number:\n",
    "    guess = int(input(\" Enter The Number : \" ))\n",
    "    attempts += 1\n",
    "    if guess < secret_number:\n",
    "        print(\"Low\")\n",
    "    elif guess > secret_number:\n",
    "        print(\"Too high\")\n",
    "    else:\n",
    "        print(f\"You Guess it in {attempts} attempts\")\n",
    "    "
   ]
  },
  {
   "cell_type": "markdown",
   "id": "dbca8e31-d5f6-45ab-b14a-f3607d1cbc2d",
   "metadata": {},
   "source": [
    "## ************ Functios ******************\n",
    "### --> It Is Block Of Code In Which A  Set Of Operation Is Already Done \n",
    "## **** Types Of Functions *****\n",
    "### 1. In-Built Functions\n",
    "### 2. User Define Functions \n",
    "### 3. Lambda Function "
   ]
  },
  {
   "cell_type": "code",
   "execution_count": 24,
   "id": "23eb6fe9-fa2d-43a9-9de5-cdd472729d96",
   "metadata": {},
   "outputs": [
    {
     "name": "stdout",
     "output_type": "stream",
     "text": [
      "5\n"
     ]
    }
   ],
   "source": [
    "# Functions \n",
    "\n",
    "def sub (): # User defined Functions \n",
    "    print( 7  -  2 )\n",
    "sub()\n",
    "    "
   ]
  },
  {
   "cell_type": "code",
   "execution_count": 35,
   "id": "238a29e1-8d6d-43c0-bb7f-63e6ddd96c52",
   "metadata": {},
   "outputs": [
    {
     "name": "stdin",
     "output_type": "stream",
     "text": [
      " Enter The First Number  25\n",
      "Enter The Second Number  26\n"
     ]
    },
    {
     "name": "stdout",
     "output_type": "stream",
     "text": [
      "The Addition Is : 51\n"
     ]
    }
   ],
   "source": [
    "def add(num_1 ,num_2): # Parameter Passing \n",
    "    print(\"The Addition Is :\",num_1 + num_2, )\n",
    "    \n",
    "num_1 = int(input(\" Enter The First Number \" ))\n",
    "num_2 = int(input(\"Enter The Second Number \"))\n",
    "\n",
    "add(num_1,num_2)\n",
    "    "
   ]
  },
  {
   "cell_type": "markdown",
   "id": "7448f0c9-1247-424e-b53e-fe4e9e19b590",
   "metadata": {},
   "source": [
    "### *********** Arbitary Arguments ******"
   ]
  },
  {
   "cell_type": "code",
   "execution_count": 40,
   "id": "06569b55-8460-4b07-a403-fa75ad0fe743",
   "metadata": {},
   "outputs": [
    {
     "name": "stdout",
     "output_type": "stream",
     "text": [
      "1\n",
      "2\n",
      "3\n"
     ]
    }
   ],
   "source": [
    "def numbers (*args):\n",
    "    for i in args:\n",
    "        print(i)\n",
    "numbers(1,2,3)"
   ]
  },
  {
   "cell_type": "code",
   "execution_count": 53,
   "id": "a37be0bc-ea0d-4e0d-9338-50f00d61fc32",
   "metadata": {},
   "outputs": [
    {
     "name": "stdout",
     "output_type": "stream",
     "text": [
      "Even Numbers:\n",
      "[2, 4, 6, 8, 10, 12, 14, 16, 18, 20, 22, 24, 26, 28, 30, 32, 34, 36, 38, 40, 42, 44, 46, 48, 50, 52, 54, 56, 58, 60, 62, 64, 66, 68, 70, 72, 74, 76, 78, 80, 82, 84, 86, 88, 90, 92, 94, 96, 98, 100]\n",
      "Odd Numbers:\n",
      "[1, 3, 5, 7, 9, 11, 13, 15, 17, 19, 21, 23, 25, 27, 29, 31, 33, 35, 37, 39, 41, 43, 45, 47, 49, 51, 53, 55, 57, 59, 61, 63, 65, 67, 69, 71, 73, 75, 77, 79, 81, 83, 85, 87, 89, 91, 93, 95, 97, 99]\n"
     ]
    }
   ],
   "source": [
    "def even_odd(*args):\n",
    "    even_num = []\n",
    "    odd_num = []\n",
    "    for i in args:\n",
    "        if i % 2 == 0:\n",
    "            even_num.append(i)\n",
    "        else:\n",
    "            odd_num.append(i)\n",
    "    return even_num, odd_num\n",
    "\n",
    "# Calling the function with numbers from 1 to 100\n",
    "even_num, odd_num = even_odd(*range(1, 101))\n",
    "\n",
    "print(\"Even Numbers:\")\n",
    "print(even_num)\n",
    "print(\"Odd Numbers:\")\n",
    "print(odd_num)\n"
   ]
  },
  {
   "cell_type": "code",
   "execution_count": 55,
   "id": "0d75e0fa-d2bc-42e8-ad9f-4f34a2f369bd",
   "metadata": {},
   "outputs": [
    {
     "name": "stdout",
     "output_type": "stream",
     "text": [
      "16\n"
     ]
    }
   ],
   "source": [
    " # Lambda Function \n",
    "x = lambda a : a + 10 \n",
    "print(x(6))"
   ]
  },
  {
   "cell_type": "code",
   "execution_count": null,
   "id": "50950413-a362-4669-a7ed-4fedc465c963",
   "metadata": {},
   "outputs": [],
   "source": []
  }
 ],
 "metadata": {
  "kernelspec": {
   "display_name": "Python 3 (ipykernel)",
   "language": "python",
   "name": "python3"
  },
  "language_info": {
   "codemirror_mode": {
    "name": "ipython",
    "version": 3
   },
   "file_extension": ".py",
   "mimetype": "text/x-python",
   "name": "python",
   "nbconvert_exporter": "python",
   "pygments_lexer": "ipython3",
   "version": "3.12.7"
  }
 },
 "nbformat": 4,
 "nbformat_minor": 5
}
