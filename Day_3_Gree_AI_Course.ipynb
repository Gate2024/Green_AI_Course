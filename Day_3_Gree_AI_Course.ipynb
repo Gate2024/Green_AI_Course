{
 "cells": [
  {
   "cell_type": "markdown",
   "id": "e5e836d9-b3ef-4a78-b5b0-c3bd2c52d8ed",
   "metadata": {},
   "source": [
    "# *** Object Oriented Programming( Python ) : ****\n",
    "### ----->  It Is Methodology Which Xonsiders Object As a Real Entity .\n",
    "## ** Important Things :\n",
    "### 1. Class : Blueprint Of Programe .\n",
    "### 2. Object : Instance Of The Class .\n",
    "### 3. Methods : What My Object Can Do .\n",
    "### 4. Attributes : Arguments Of the Object .\n",
    "### 5. Behaviour : How The Object Behave .\n",
    "## ***** Pillers Of The Oject Oriented Programming( OOP's) : *****\n",
    "### 1. Incapsulation : Encapsulate The Method Into The Objects \n",
    "### 2. Polymorphism : Aquire the Multiple Forms\n",
    "### 3. Inheritance : Inherirt The Properties\n",
    "### 4. Abstraction : We Hide The Inrelevant Dat From The User\n",
    "\n"
   ]
  },
  {
   "cell_type": "code",
   "execution_count": 7,
   "id": "fcc3ba7b-99e7-4251-bc77-841ebc016a5c",
   "metadata": {},
   "outputs": [
    {
     "name": "stdout",
     "output_type": "stream",
     "text": [
      "<class '__main__.class_1'>\n"
     ]
    }
   ],
   "source": [
    "# Class Example \n",
    "class class_1: # Empty Class \n",
    "    pass # Empty Keyword\n",
    "    object_1 = class_1 \n",
    "print(object_1)\n",
    "    \n"
   ]
  },
  {
   "cell_type": "code",
   "execution_count": 32,
   "id": "fa2bfd29-dcba-4a03-ac63-63f92cc0c52e",
   "metadata": {},
   "outputs": [
    {
     "name": "stdout",
     "output_type": "stream",
     "text": [
      "My Name Is Narayan And I am Doing Coding \n",
      "My Name Is Rahul And I am Doing Coding \n"
     ]
    }
   ],
   "source": [
    "# Class , object, Methods , attributes etc. example \n",
    "class College:\n",
    "    def __init__(self,name,age): # Init method \n",
    "        self.name = name \n",
    "        self.age = age \n",
    "    def coding(self): # Coding Method \n",
    "        print(f\"My Name Is {self.name} And I am Doing Coding \")\n",
    "        \n",
    "student_1 = College( \"Narayan\",21) # Object Initialization \n",
    "student_2 = College(\"Rahul\",21)    # Object Initialization\n",
    "\n",
    "student_1.coding() # Method Invokation \n",
    "student_2.coding() # Method Invokation\n",
    "#print(\"Name:\",student_1.name , \"Age:\",student_1.age, end = \" \")\n",
    "#print(\"Name:\",student_2.name , \"Age:\",student_2.age, end = \" \")\n"
   ]
  },
  {
   "cell_type": "code",
   "execution_count": 44,
   "id": "dbb70ecf-193e-4b1c-aa4c-1dc4660be679",
   "metadata": {},
   "outputs": [
    {
     "name": "stdout",
     "output_type": "stream",
     "text": [
      "My Name Is Narayan Adhude\n",
      "My Name Is Rahul Damale\n"
     ]
    }
   ],
   "source": [
    "## Inheritance Example \n",
    "class Parent:   # parent Class \n",
    "    def __init__(self,name,surname):\n",
    "        self.name = name\n",
    "        self.surname = surname\n",
    "        \n",
    "    def show_details(self):\n",
    "        print(f\"My Name Is {self.name} {self.surname}\")\n",
    "\n",
    "class Son(Parent): # Child Class \n",
    "    def __init__(self,name,surname,age):\n",
    "        super().__init__(name,surname) # Inheritance Perform Here \n",
    "        self.age = age \n",
    "    def intro(self):\n",
    "        super().show_details()\n",
    "\n",
    "son_1 = Son(\"Narayan\",\"Adhude\",21)\n",
    "son_2 = Son(\"Rahul\",\"Damale\",21)\n",
    "\n",
    "son_1.intro()\n",
    "son_2.intro()\n",
    "   "
   ]
  },
  {
   "cell_type": "code",
   "execution_count": 62,
   "id": "2f01528d-022c-470a-887b-ef32461cc417",
   "metadata": {},
   "outputs": [
    {
     "name": "stdout",
     "output_type": "stream",
     "text": [
      "Name Is : narayan Card_No Is : 1234567890\n",
      "Pin_No Is :  1234567890\n"
     ]
    }
   ],
   "source": [
    "# Encapsulation Example \n",
    "class Atm:\n",
    "    def __init__(self,name,card_no,pin):\n",
    "        self.name = name\n",
    "        self._card_no = card_no # Protected Access Modifier (_)\n",
    "        self.__pin = pin # Private Access Modifier (__)\n",
    "\n",
    "    def get_pin(self):  # But using Getter Method We Can Access The Private Property\n",
    "        return self.__pin\n",
    "    \n",
    "machine_1 = Atm(\"narayan\", 1234567890,1234567890)\n",
    "print(\"Name Is :\",machine_1.name,\"Card_No Is :\",machine_1._card_no, end = \"\\n\")\n",
    "print(\"Pin_No Is : \",machine_1.get_pin()) # It Cannot Be accesseble Outside The Class "
   ]
  },
  {
   "cell_type": "code",
   "execution_count": 65,
   "id": "c813c8b5-088f-40d4-a204-b9b82a905aea",
   "metadata": {},
   "outputs": [
    {
     "name": "stdout",
     "output_type": "stream",
     "text": [
      "My Name Is Narayan Adhude and my Age Is 21\n",
      "My Name Is Rahul Damale and my Age Is 21\n"
     ]
    }
   ],
   "source": [
    "# polymorphism example \n",
    "class Parent:\n",
    "    def __init__(self,name,surname):\n",
    "        self.name = name\n",
    "        self.surname = surname\n",
    "        \n",
    "    def show_details(self): # Show_detail Aquire Multiple form\n",
    "        print(f\"My Name Is {self.name} {self.surname}\")\n",
    "\n",
    "class Son(Parent):\n",
    "    def __init__(self,name,surname,age):\n",
    "        super().__init__(name,surname)\n",
    "        self.age = age \n",
    "    def show_details(self): # show_details Aquire Multiple Form\n",
    "        print(f\"My Name Is {self.name} {self.surname} and my Age Is {self.age}\")\n",
    "\n",
    "son_1 = Son(\"Narayan\",\"Adhude\",21)\n",
    "son_2 = Son(\"Rahul\",\"Damale\",21)\n",
    "\n",
    "son_1.show_details()\n",
    "son_2.show_details()"
   ]
  },
  {
   "cell_type": "code",
   "execution_count": 83,
   "id": "682e0263-b451-44a6-a884-f2192556299b",
   "metadata": {},
   "outputs": [
    {
     "name": "stdout",
     "output_type": "stream",
     "text": [
      "iPhone 15 is calling\n",
      "iPhone 15 is mesaging\n",
      "iPhone 15 has a 48 Mega Pixel camera.\n"
     ]
    }
   ],
   "source": [
    "# Abstrction Example \n",
    "from abc import ABC, abstractmethod # Import Abstrct Class & Method\n",
    "\n",
    "class Mobile(ABC):\n",
    "    def __init__(self,name,price):\n",
    "        self.name = name \n",
    "        self.price = price \n",
    "        \n",
    "    @abstractmethod\n",
    "    def calling(self):\n",
    "        pass\n",
    "\n",
    "    @abstractmethod\n",
    "    def messaging(self):\n",
    "        pass\n",
    "\n",
    "class Apple(Mobile):\n",
    "    def __init__(self,name,price,camera):\n",
    "        super().__init__(name,price)\n",
    "        self.camera = camera\n",
    "        \n",
    "    def calling(self):\n",
    "        print(f\"{self.name} is calling\")\n",
    "    def messaging(self):\n",
    "        print(f\"{self.name} is mesaging\")\n",
    "    def mobile_info(self):\n",
    "        print(f\"{self.name} has a {self.camera} Mega Pixel camera.\")\n",
    "\n",
    "iphone = Apple(\"iPhone 15\", 120000, 48)\n",
    "iphone.calling()\n",
    "iphone.messaging()\n",
    "iphone.mobile_info()\n",
    "\n",
    "\n",
    "\n"
   ]
  },
  {
   "cell_type": "code",
   "execution_count": null,
   "id": "9227837b-644b-44ac-b10b-06417a1958cc",
   "metadata": {},
   "outputs": [],
   "source": []
  }
 ],
 "metadata": {
  "kernelspec": {
   "display_name": "Python 3 (ipykernel)",
   "language": "python",
   "name": "python3"
  },
  "language_info": {
   "codemirror_mode": {
    "name": "ipython",
    "version": 3
   },
   "file_extension": ".py",
   "mimetype": "text/x-python",
   "name": "python",
   "nbconvert_exporter": "python",
   "pygments_lexer": "ipython3",
   "version": "3.12.7"
  }
 },
 "nbformat": 4,
 "nbformat_minor": 5
}
