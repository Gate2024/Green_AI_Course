{
 "cells": [
  {
   "cell_type": "markdown",
   "id": "7cf4a6e2-80f5-481f-b09f-85edb83cc89e",
   "metadata": {},
   "source": [
    "### 1.Write a Python program to input two numbers and display their sum, difference, product, andquotient."
   ]
  },
  {
   "cell_type": "code",
   "execution_count": 2,
   "id": "fdbaf162-3b44-4b41-8319-84bfab67691f",
   "metadata": {},
   "outputs": [
    {
     "name": "stdin",
     "output_type": "stream",
     "text": [
      " Enter The Number :  5\n",
      " Enter The Number :  2\n"
     ]
    },
    {
     "name": "stdout",
     "output_type": "stream",
     "text": [
      " The Addition Is :  7\n",
      " The Substraction Is :  3\n",
      " The Multiplication Is :  10\n",
      " The Division Is :  2.5\n",
      " The Quotient Is :  1\n"
     ]
    }
   ],
   "source": [
    "num_1 = int(input(\" Enter The Number : \"))\n",
    "num_2 = int(input(\" Enter The Number : \"))\n",
    "\n",
    "print(\" The Addition Is : \" , num_1 + num_2 ) \n",
    "print(\" The Substraction Is : \" , num_1 - num_2 ) \n",
    "print(\" The Multiplication Is : \" , num_1 * num_2 ) \n",
    "print(\" The Division Is : \" , num_1 / num_2 ) \n",
    "print(\" The Quotient Is : \" , num_1 % num_2 ) \n"
   ]
  },
  {
   "cell_type": "markdown",
   "id": "b9a1342c-5276-4d09-8f4a-7890296415f9",
   "metadata": {},
   "source": [
    "### 2. Write a program to check if a number is even or odd."
   ]
  },
  {
   "cell_type": "code",
   "execution_count": 3,
   "id": "0f995ec5-a831-48aa-a91b-c32c6d1e3856",
   "metadata": {},
   "outputs": [
    {
     "name": "stdin",
     "output_type": "stream",
     "text": [
      " Enter The Number :  9\n"
     ]
    },
    {
     "name": "stdout",
     "output_type": "stream",
     "text": [
      "Number Is odd .\n"
     ]
    }
   ],
   "source": [
    " num_1 = int(input(\" Enter The Number : \" ))\n",
    "if num_1 % 2 == 0:\n",
    "    print(\"Number Is Even .\")\n",
    "else:\n",
    "    print(\"Number Is odd .\")\n",
    "    "
   ]
  },
  {
   "cell_type": "markdown",
   "id": "5b1697ad-d26c-42df-84ad-1252ce43eaa4",
   "metadata": {},
   "source": [
    "### 3.Write a Python program to swap two variables without using a third variable."
   ]
  },
  {
   "cell_type": "code",
   "execution_count": 11,
   "id": "e53a0025-1f17-42f8-bc58-f53fb8c332e5",
   "metadata": {},
   "outputs": [
    {
     "name": "stdin",
     "output_type": "stream",
     "text": [
      "Enter The Number :  5\n",
      "Enter The Number :  6\n"
     ]
    },
    {
     "name": "stdout",
     "output_type": "stream",
     "text": [
      "\n",
      "New Value Of Num_1 :  6\n",
      "New Value Of Num_2 :  5\n"
     ]
    }
   ],
   "source": [
    "num_1 = int(input(\"Enter The Number : \"))\n",
    "num_2 = int(input(\"Enter The Number : \"))\n",
    "num_1 = num_1 + num_2 \n",
    "num_2 = num_1 - num_2 \n",
    "num_1 = num_1 - num_2\n",
    "print()\n",
    "print(\"New Value Of Num_1 : \",num_1)\n",
    "print(\"New Value Of Num_2 : \",num_2)"
   ]
  },
  {
   "cell_type": "markdown",
   "id": "7c094037-9080-45cc-8aaf-c915f43a1176",
   "metadata": {},
   "source": [
    "### 4.Write a program to calculate the factorial of a number using a loop."
   ]
  },
  {
   "cell_type": "code",
   "execution_count": null,
   "id": "3ebfe10d-90ed-435c-a3e4-3ea5f819224e",
   "metadata": {},
   "outputs": [],
   "source": [
    " num_1 = float(input(\"Enter The First Number : \"))\n",
    " for i in num_1:\n",
    "     if num_1 < 0:\n",
    "         print(\"Invalid Input\")\n",
    "     elif :\n",
    "         num_1 -= 1\n",
    "     elif :\n",
    "         "
   ]
  },
  {
   "cell_type": "markdown",
   "id": "d27d110d-e808-4b0e-a153-4f445d51af2a",
   "metadata": {},
   "source": [
    "### 5.Write a Python program to find the largest of three numbers using if-else"
   ]
  },
  {
   "cell_type": "code",
   "execution_count": 15,
   "id": "88265da1-31f3-4dcc-8946-c53adeb9c5d4",
   "metadata": {},
   "outputs": [
    {
     "ename": "SyntaxError",
     "evalue": "invalid syntax (4060160518.py, line 7)",
     "output_type": "error",
     "traceback": [
      "\u001b[1;36m  Cell \u001b[1;32mIn[15], line 7\u001b[1;36m\u001b[0m\n\u001b[1;33m    elif num_2 >  num_3:\u001b[0m\n\u001b[1;37m    ^\u001b[0m\n\u001b[1;31mSyntaxError\u001b[0m\u001b[1;31m:\u001b[0m invalid syntax\n"
     ]
    }
   ],
   "source": [
    "num_1 = int(input(\"Enter The First Number : \"))\n",
    "num_2 = int(input(\"Enter The Second Number : \"))\n",
    "num_3 = int(input(\"Enter The Second Number : \"))\n",
    "\n",
    "if num_2 > num_1 : \n",
    "    print(\"The Large Value Is :\",num_2)\n",
    "    \n",
    "    elif num_2 >  num_3:\n",
    "    print(\"largest Value Is : \",num_3)\n",
    "else:\n",
    "    print(num_2)\n",
    " "
   ]
  },
  {
   "cell_type": "code",
   "execution_count": null,
   "id": "ec4df2a8-77a5-4573-8fe1-f240988e9c71",
   "metadata": {},
   "outputs": [],
   "source": []
  }
 ],
 "metadata": {
  "kernelspec": {
   "display_name": "Python 3 (ipykernel)",
   "language": "python",
   "name": "python3"
  },
  "language_info": {
   "codemirror_mode": {
    "name": "ipython",
    "version": 3
   },
   "file_extension": ".py",
   "mimetype": "text/x-python",
   "name": "python",
   "nbconvert_exporter": "python",
   "pygments_lexer": "ipython3",
   "version": "3.12.7"
  }
 },
 "nbformat": 4,
 "nbformat_minor": 5
}
