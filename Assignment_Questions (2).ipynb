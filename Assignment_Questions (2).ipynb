{
 "cells": [
  {
   "cell_type": "markdown",
   "id": "7cf4a6e2-80f5-481f-b09f-85edb83cc89e",
   "metadata": {},
   "source": [
    "### 1.Write a Python program to input two numbers and display their sum, difference, product, andquotient."
   ]
  },
  {
   "cell_type": "code",
   "execution_count": 2,
   "id": "fdbaf162-3b44-4b41-8319-84bfab67691f",
   "metadata": {},
   "outputs": [
    {
     "name": "stdin",
     "output_type": "stream",
     "text": [
      " Enter The Number :  5\n",
      " Enter The Number :  2\n"
     ]
    },
    {
     "name": "stdout",
     "output_type": "stream",
     "text": [
      " The Addition Is :  7\n",
      " The Substraction Is :  3\n",
      " The Multiplication Is :  10\n",
      " The Division Is :  2.5\n",
      " The Quotient Is :  1\n"
     ]
    }
   ],
   "source": [
    "num_1 = int(input(\" Enter The Number : \"))\n",
    "num_2 = int(input(\" Enter The Number : \"))\n",
    "\n",
    "print(\" The Addition Is : \" , num_1 + num_2 ) \n",
    "print(\" The Substraction Is : \" , num_1 - num_2 ) \n",
    "print(\" The Multiplication Is : \" , num_1 * num_2 ) \n",
    "print(\" The Division Is : \" , num_1 / num_2 ) \n",
    "print(\" The Quotient Is : \" , num_1 % num_2 ) \n"
   ]
  },
  {
   "cell_type": "markdown",
   "id": "b9a1342c-5276-4d09-8f4a-7890296415f9",
   "metadata": {},
   "source": [
    "### 2. Write a program to check if a number is even or odd."
   ]
  },
  {
   "cell_type": "code",
   "execution_count": 3,
   "id": "0f995ec5-a831-48aa-a91b-c32c6d1e3856",
   "metadata": {},
   "outputs": [
    {
     "name": "stdin",
     "output_type": "stream",
     "text": [
      " Enter The Number :  9\n"
     ]
    },
    {
     "name": "stdout",
     "output_type": "stream",
     "text": [
      "Number Is odd .\n"
     ]
    }
   ],
   "source": [
    " num_1 = int(input(\" Enter The Number : \" ))\n",
    "if num_1 % 2 == 0:\n",
    "    print(\"Number Is Even .\")\n",
    "else:\n",
    "    print(\"Number Is odd .\")\n",
    "    "
   ]
  },
  {
   "cell_type": "markdown",
   "id": "5b1697ad-d26c-42df-84ad-1252ce43eaa4",
   "metadata": {},
   "source": [
    "### 3.Write a Python program to swap two variables without using a third variable."
   ]
  },
  {
   "cell_type": "markdown",
   "id": "da74937d-be5b-48de-acd4-4af25bc43d2f",
   "metadata": {},
   "source": [
    "# num_1 = int(input(\"Enter The Number : \"))\n",
    "num_2 = int(input(\"Enter The Number : \"))\n",
    "num_1 = num_1 + num_2 \n",
    "num_2 = num_1 - num_2 \n",
    "num_1 = num_1 - num_2\n",
    "print()\n",
    "print(\"New Value Of Num_1 : \",num_1)\n",
    "print(\"New Value Of Num_2 : \",num_2)"
   ]
  },
  {
   "cell_type": "markdown",
   "id": "7c094037-9080-45cc-8aaf-c915f43a1176",
   "metadata": {},
   "source": [
    "### 4.Write a program to calculate the factorial of a number using a loop."
   ]
  },
  {
   "cell_type": "code",
   "execution_count": 4,
   "id": "3ebfe10d-90ed-435c-a3e4-3ea5f819224e",
   "metadata": {},
   "outputs": [
    {
     "name": "stdin",
     "output_type": "stream",
     "text": [
      "Enter a number:  6\n"
     ]
    },
    {
     "name": "stdout",
     "output_type": "stream",
     "text": [
      "The factorial of 6 is 720\n"
     ]
    }
   ],
   "source": [
    "num = int(input(\"Enter a number: \"))\n",
    "factorial = 1\n",
    "for i in range(1, num + 1):\n",
    "    factorial *= i\n",
    "print(f\"The factorial of {num} is {factorial}\")\n"
   ]
  },
  {
   "cell_type": "markdown",
   "id": "d27d110d-e808-4b0e-a153-4f445d51af2a",
   "metadata": {},
   "source": [
    "### 5.Write a Python program to find the largest of three numbers using if-else"
   ]
  },
  {
   "cell_type": "code",
   "execution_count": 7,
   "id": "88265da1-31f3-4dcc-8946-c53adeb9c5d4",
   "metadata": {},
   "outputs": [
    {
     "name": "stdin",
     "output_type": "stream",
     "text": [
      "Enter The First Number :  2\n",
      "Enter The Second Number :  3\n",
      "Enter The Second Number :  4\n"
     ]
    },
    {
     "name": "stdout",
     "output_type": "stream",
     "text": [
      "Num_3 : 4 Is The Largest Number\n"
     ]
    }
   ],
   "source": [
    "num_1 = int(input(\"Enter The First Number : \"))\n",
    "num_2 = int(input(\"Enter The Second Number : \"))\n",
    "num_3 = int(input(\"Enter The Second Number : \"))\n",
    "\n",
    "if num_1 >= num_2 and num_1 >= num_3:\n",
    "    print(f\"Num_1 : {num_1} Is The Largest Number\")\n",
    "elif  num_2 >= num_1 and num_2 >= num_3:\n",
    "    print(f\"Num_2 : {num_2} Is The Largest Number\")\n",
    "else:\n",
    "    print(f\"Num_3 : {num_3} Is The Largest Number\")\n"
   ]
  },
  {
   "cell_type": "markdown",
   "id": "6b1b0bba-a7c5-462f-8182-98823e098984",
   "metadata": {},
   "source": [
    "### 6. Write a Python program to create a list of 5 numbers and find the sum of elements.\n"
   ]
  },
  {
   "cell_type": "code",
   "execution_count": 13,
   "id": "e2dbc32d-ba91-4099-b5ca-d76063d4980a",
   "metadata": {},
   "outputs": [
    {
     "name": "stdout",
     "output_type": "stream",
     "text": [
      "The Total sum Is :32\n"
     ]
    }
   ],
   "source": [
    "for i in range(0,5):\n",
    "    total_sum = sum(numbers)\n",
    "print(f\"The Total sum Is :{total_sum}\")"
   ]
  },
  {
   "cell_type": "markdown",
   "id": "a7da0c3b-66d6-4551-af46-dd00235793f7",
   "metadata": {},
   "source": [
    "### 7. Write a program to remove duplicates from a list using a set.\n"
   ]
  },
  {
   "cell_type": "code",
   "execution_count": 20,
   "id": "69902478-2433-4ff1-9b39-7eda636675dc",
   "metadata": {},
   "outputs": [
    {
     "name": "stdout",
     "output_type": "stream",
     "text": [
      "[0, 1, 2, 3, 4, 5, 6, 7, 8, 9]\n"
     ]
    }
   ],
   "source": [
    "my_list = [1,2,3,4,5,6,7,8,9,0,3]\n",
    "unique_list = list(set(my_list))\n",
    "print(unique_list)"
   ]
  },
  {
   "cell_type": "markdown",
   "id": "2e9a04ad-9069-43da-9309-931c7f103031",
   "metadata": {},
   "source": [
    "### 8. Create a dictionary to store student names and marks. Print names of students who scored morethan 75.\n"
   ]
  },
  {
   "cell_type": "code",
   "execution_count": 23,
   "id": "2a046ec5-c9cb-4382-af37-e3e27516f40a",
   "metadata": {},
   "outputs": [
    {
     "name": "stdout",
     "output_type": "stream",
     "text": [
      "Narayan\n",
      "Ajay\n",
      " Rahul \n"
     ]
    }
   ],
   "source": [
    "my_dictionary = {\n",
    "    \"Narayan\" : 90,\n",
    "    \"Ajay\" : 95,\n",
    "    \" Rahul \" : 99,\n",
    "    \"Sanchit\" : 70,\n",
    "    \"Shubham\" : 60\n",
    "    }\n",
    "for name,marks in my_dictionary.items():\n",
    "    if marks > 75:\n",
    "        print (name)\n"
   ]
  },
  {
   "cell_type": "markdown",
   "id": "13dbaeb9-5eb2-4377-90f3-c341e742fc51",
   "metadata": {},
   "source": [
    "### 9. Create a tuple of 5 elements and print its reverse.\n"
   ]
  },
  {
   "cell_type": "code",
   "execution_count": 24,
   "id": "21f18a5f-e009-4f58-b9af-181e321ff938",
   "metadata": {},
   "outputs": [
    {
     "name": "stdout",
     "output_type": "stream",
     "text": [
      "(5, 4, 3, 2, 1)\n"
     ]
    }
   ],
   "source": [
    "my_tuple = (1, 2, 3, 4, 5)\n",
    "\n",
    "\n",
    "reversed_tuple = my_tuple[::-1]\n",
    "print( reversed_tuple)\n"
   ]
  },
  {
   "cell_type": "markdown",
   "id": "b44ef32d-5c1d-48f6-b911-9918af71344d",
   "metadata": {},
   "source": [
    "### 10. Write a program to count the number of vowels in a given string using a list.\n"
   ]
  },
  {
   "cell_type": "code",
   "execution_count": null,
   "id": "169e9aa0-fdad-4fcb-9f00-3d7166a4f093",
   "metadata": {},
   "outputs": [],
   "source": []
  }
 ],
 "metadata": {
  "kernelspec": {
   "display_name": "Python 3 (ipykernel)",
   "language": "python",
   "name": "python3"
  },
  "language_info": {
   "codemirror_mode": {
    "name": "ipython",
    "version": 3
   },
   "file_extension": ".py",
   "mimetype": "text/x-python",
   "name": "python",
   "nbconvert_exporter": "python",
   "pygments_lexer": "ipython3",
   "version": "3.12.3"
  }
 },
 "nbformat": 4,
 "nbformat_minor": 5
}
