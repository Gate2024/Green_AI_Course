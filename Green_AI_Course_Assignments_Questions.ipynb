{
 "cells": [
  {
   "cell_type": "markdown",
   "id": "7cf4a6e2-80f5-481f-b09f-85edb83cc89e",
   "metadata": {},
   "source": [
    "### 1.Write a Python program to input two numbers and display their sum, difference, product, andquotient."
   ]
  },
  {
   "cell_type": "code",
   "execution_count": 2,
   "id": "fdbaf162-3b44-4b41-8319-84bfab67691f",
   "metadata": {},
   "outputs": [
    {
     "name": "stdin",
     "output_type": "stream",
     "text": [
      " Enter The Number :  5\n",
      " Enter The Number :  2\n"
     ]
    },
    {
     "name": "stdout",
     "output_type": "stream",
     "text": [
      " The Addition Is :  7\n",
      " The Substraction Is :  3\n",
      " The Multiplication Is :  10\n",
      " The Division Is :  2.5\n",
      " The Quotient Is :  1\n"
     ]
    }
   ],
   "source": [
    "num_1 = int(input(\" Enter The Number : \"))\n",
    "num_2 = int(input(\" Enter The Number : \"))\n",
    "\n",
    "print(\" The Addition Is : \" , num_1 + num_2 ) \n",
    "print(\" The Substraction Is : \" , num_1 - num_2 ) \n",
    "print(\" The Multiplication Is : \" , num_1 * num_2 ) \n",
    "print(\" The Division Is : \" , num_1 / num_2 ) \n",
    "print(\" The Quotient Is : \" , num_1 % num_2 ) \n"
   ]
  },
  {
   "cell_type": "markdown",
   "id": "b9a1342c-5276-4d09-8f4a-7890296415f9",
   "metadata": {},
   "source": [
    "### 2. Write a program to check if a number is even or odd."
   ]
  },
  {
   "cell_type": "code",
   "execution_count": 3,
   "id": "0f995ec5-a831-48aa-a91b-c32c6d1e3856",
   "metadata": {},
   "outputs": [
    {
     "name": "stdin",
     "output_type": "stream",
     "text": [
      " Enter The Number :  9\n"
     ]
    },
    {
     "name": "stdout",
     "output_type": "stream",
     "text": [
      "Number Is odd .\n"
     ]
    }
   ],
   "source": [
    " num_1 = int(input(\" Enter The Number : \" ))\n",
    "if num_1 % 2 == 0:\n",
    "    print(\"Number Is Even .\")\n",
    "else:\n",
    "    print(\"Number Is odd .\")\n",
    "    "
   ]
  },
  {
   "cell_type": "markdown",
   "id": "5b1697ad-d26c-42df-84ad-1252ce43eaa4",
   "metadata": {},
   "source": [
    "### 3.Write a Python program to swap two variables without using a third variable."
   ]
  },
  {
   "cell_type": "code",
   "execution_count": null,
   "id": "461e4a2b-821e-4548-b95e-3fa11e1e5f18",
   "metadata": {},
   "outputs": [],
   "source": [
    "# num_1 = int(input(\"Enter The Number : \"))\n",
    "num_2 = int(input(\"Enter The Number : \"))\n",
    "num_1 = num_1 + num_2 \n",
    "num_2 = num_1 - num_2 \n",
    "num_1 = num_1 - num_2\n",
    "print()\n",
    "print(\"New Value Of Num_1 : \",num_1)\n",
    "print(\"New Value Of Num_2 : \",num_2)"
   ]
  },
  {
   "cell_type": "markdown",
   "id": "7c094037-9080-45cc-8aaf-c915f43a1176",
   "metadata": {},
   "source": [
    "### 4.Write a program to calculate the factorial of a number using a loop."
   ]
  },
  {
   "cell_type": "code",
   "execution_count": 4,
   "id": "3ebfe10d-90ed-435c-a3e4-3ea5f819224e",
   "metadata": {},
   "outputs": [
    {
     "name": "stdin",
     "output_type": "stream",
     "text": [
      "Enter a number:  6\n"
     ]
    },
    {
     "name": "stdout",
     "output_type": "stream",
     "text": [
      "The factorial of 6 is 720\n"
     ]
    }
   ],
   "source": [
    "num = int(input(\"Enter a number: \"))\n",
    "factorial = 1\n",
    "for i in range(1, num + 1):\n",
    "    factorial *= i\n",
    "print(f\"The factorial of {num} is {factorial}\")\n"
   ]
  },
  {
   "cell_type": "markdown",
   "id": "d27d110d-e808-4b0e-a153-4f445d51af2a",
   "metadata": {},
   "source": [
    "### 5.Write a Python program to find the largest of three numbers using if-else"
   ]
  },
  {
   "cell_type": "code",
   "execution_count": 7,
   "id": "88265da1-31f3-4dcc-8946-c53adeb9c5d4",
   "metadata": {},
   "outputs": [
    {
     "name": "stdin",
     "output_type": "stream",
     "text": [
      "Enter The First Number :  2\n",
      "Enter The Second Number :  3\n",
      "Enter The Second Number :  4\n"
     ]
    },
    {
     "name": "stdout",
     "output_type": "stream",
     "text": [
      "Num_3 : 4 Is The Largest Number\n"
     ]
    }
   ],
   "source": [
    "num_1 = int(input(\"Enter The First Number : \"))\n",
    "num_2 = int(input(\"Enter The Second Number : \"))\n",
    "num_3 = int(input(\"Enter The Second Number : \"))\n",
    "\n",
    "if num_1 >= num_2 and num_1 >= num_3:\n",
    "    print(f\"Num_1 : {num_1} Is The Largest Number\")\n",
    "elif  num_2 >= num_1 and num_2 >= num_3:\n",
    "    print(f\"Num_2 : {num_2} Is The Largest Number\")\n",
    "else:\n",
    "    print(f\"Num_3 : {num_3} Is The Largest Number\")\n"
   ]
  },
  {
   "cell_type": "markdown",
   "id": "6b1b0bba-a7c5-462f-8182-98823e098984",
   "metadata": {},
   "source": [
    "### 6. Write a Python program to create a list of 5 numbers and find the sum of elements.\n"
   ]
  },
  {
   "cell_type": "code",
   "execution_count": 13,
   "id": "e2dbc32d-ba91-4099-b5ca-d76063d4980a",
   "metadata": {},
   "outputs": [
    {
     "name": "stdout",
     "output_type": "stream",
     "text": [
      "The Total sum Is :32\n"
     ]
    }
   ],
   "source": [
    "for i in range(0,5):\n",
    "    total_sum = sum(numbers)\n",
    "print(f\"The Total sum Is :{total_sum}\")"
   ]
  },
  {
   "cell_type": "markdown",
   "id": "a7da0c3b-66d6-4551-af46-dd00235793f7",
   "metadata": {},
   "source": [
    "### 7. Write a program to remove duplicates from a list using a set.\n"
   ]
  },
  {
   "cell_type": "code",
   "execution_count": 20,
   "id": "69902478-2433-4ff1-9b39-7eda636675dc",
   "metadata": {},
   "outputs": [
    {
     "name": "stdout",
     "output_type": "stream",
     "text": [
      "[0, 1, 2, 3, 4, 5, 6, 7, 8, 9]\n"
     ]
    }
   ],
   "source": [
    "my_list = [1,2,3,4,5,6,7,8,9,0,3]\n",
    "unique_list = list(set(my_list))\n",
    "print(unique_list)"
   ]
  },
  {
   "cell_type": "markdown",
   "id": "2e9a04ad-9069-43da-9309-931c7f103031",
   "metadata": {},
   "source": [
    "### 8. Create a dictionary to store student names and marks. Print names of students who scored morethan 75.\n"
   ]
  },
  {
   "cell_type": "code",
   "execution_count": 23,
   "id": "2a046ec5-c9cb-4382-af37-e3e27516f40a",
   "metadata": {},
   "outputs": [
    {
     "name": "stdout",
     "output_type": "stream",
     "text": [
      "Narayan\n",
      "Ajay\n",
      " Rahul \n"
     ]
    }
   ],
   "source": [
    "my_dictionary = {\n",
    "    \"Narayan\" : 90,\n",
    "    \"Ajay\" : 95,\n",
    "    \" Rahul \" : 99,\n",
    "    \"Sanchit\" : 70,\n",
    "    \"Shubham\" : 60\n",
    "    }\n",
    "for name,marks in my_dictionary.items():\n",
    "    if marks > 75:\n",
    "        print (name)\n"
   ]
  },
  {
   "cell_type": "markdown",
   "id": "13dbaeb9-5eb2-4377-90f3-c341e742fc51",
   "metadata": {},
   "source": [
    "### 9. Create a tuple of 5 elements and print its reverse.\n"
   ]
  },
  {
   "cell_type": "code",
   "execution_count": 24,
   "id": "21f18a5f-e009-4f58-b9af-181e321ff938",
   "metadata": {},
   "outputs": [
    {
     "name": "stdout",
     "output_type": "stream",
     "text": [
      "(5, 4, 3, 2, 1)\n"
     ]
    }
   ],
   "source": [
    "my_tuple = (1, 2, 3, 4, 5)\n",
    "\n",
    "\n",
    "reversed_tuple = my_tuple[::-1]\n",
    "print( reversed_tuple)\n"
   ]
  },
  {
   "cell_type": "markdown",
   "id": "b44ef32d-5c1d-48f6-b911-9918af71344d",
   "metadata": {},
   "source": [
    "### 10. Write a program to count the number of vowels in a given string using a list.\n"
   ]
  },
  {
   "cell_type": "code",
   "execution_count": 14,
   "id": "169e9aa0-fdad-4fcb-9f00-3d7166a4f093",
   "metadata": {},
   "outputs": [
    {
     "name": "stdin",
     "output_type": "stream",
     "text": [
      "Enter The String : NARAYAN\n"
     ]
    },
    {
     "name": "stdout",
     "output_type": "stream",
     "text": [
      "The No.Of Vowels Is : 3\n"
     ]
    }
   ],
   "source": [
    "input_1 = input(\"Enter The String :\")\n",
    "vowel_list = ['a','e','i','o','u']\n",
    "count = 0 \n",
    "\n",
    "for i in input_1:\n",
    "        if i.lower() in vowel_list:\n",
    "            count += 1\n",
    "    \n",
    "print(\"The No.Of Vowels Is :\",count)\n",
    "\n",
    "\n",
    "\n"
   ]
  },
  {
   "cell_type": "markdown",
   "id": "ab83a2a3-c01e-4176-b1e8-86f9ae675e44",
   "metadata": {},
   "source": [
    "### 11. Write a function to check if a number is prime.\n"
   ]
  },
  {
   "cell_type": "code",
   "execution_count": 22,
   "id": "4dc3b829-7fc5-4041-9ebe-f53499357c91",
   "metadata": {},
   "outputs": [
    {
     "name": "stdin",
     "output_type": "stream",
     "text": [
      "Enter The Number :  0\n"
     ]
    },
    {
     "name": "stdout",
     "output_type": "stream",
     "text": [
      "0  Is Not a Prime Number\n"
     ]
    }
   ],
   "source": [
    "num_1 = int(input(\"Enter The Number : \"))\n",
    "\n",
    "if num_1 % 2 != 0:\n",
    "    print(num_1,\" Is A Prime Number. \",)\n",
    "elif num_1 < 1:\n",
    "    print(num_1,\" Is Not a Prime Number\")\n",
    "else:\n",
    "    print(num_1,\" Is A Odd Number.\",)"
   ]
  },
  {
   "cell_type": "markdown",
   "id": "e56dfcf9-a1a4-48f7-92f1-e70046c44f07",
   "metadata": {},
   "source": [
    "### 12. Write a function that returns the Fibonacci series up to n terms.\n"
   ]
  },
  {
   "cell_type": "code",
   "execution_count": 29,
   "id": "d4132c04-30ed-492c-bbec-2b1d8527b962",
   "metadata": {},
   "outputs": [
    {
     "name": "stdin",
     "output_type": "stream",
     "text": [
      "Enter how many terms:  5\n"
     ]
    },
    {
     "name": "stdout",
     "output_type": "stream",
     "text": [
      "0\n",
      "1\n",
      "1\n",
      "2\n",
      "3\n"
     ]
    }
   ],
   "source": [
    "n = int(input(\"Enter how many terms: \"))\n",
    "\n",
    "a = 0\n",
    "b = 1\n",
    "\n",
    "for i in range(n):\n",
    "    print(a)\n",
    "    c = a + b\n",
    "    a = b\n",
    "    b = c\n"
   ]
  },
  {
   "cell_type": "markdown",
   "id": "e6ce4bb2-afd6-4bc9-8be0-582bd28c3e9c",
   "metadata": {},
   "source": [
    "### 13. Write a program using a while loop to print the multiplication table of a number"
   ]
  },
  {
   "cell_type": "code",
   "execution_count": 2,
   "id": "e0b1f984-a7cf-4241-b629-0f6792016692",
   "metadata": {},
   "outputs": [
    {
     "name": "stdin",
     "output_type": "stream",
     "text": [
      " Enter The Number :  10\n"
     ]
    },
    {
     "name": "stdout",
     "output_type": "stream",
     "text": [
      "10 x 1 = 10\n",
      "10 x 2 = 20\n",
      "10 x 3 = 30\n",
      "10 x 4 = 40\n",
      "10 x 5 = 50\n",
      "10 x 6 = 60\n",
      "10 x 7 = 70\n",
      "10 x 8 = 80\n",
      "10 x 9 = 90\n",
      "10 x 10 = 100\n"
     ]
    }
   ],
   "source": [
    " num_1 = int(input(\" Enter The Number : \"))\n",
    " i = 1\n",
    "while i <= 10:\n",
    "    print(num_1,\"x\",i,\"=\",num_1*i)\n",
    "    i += 1"
   ]
  },
  {
   "cell_type": "markdown",
   "id": "6c6d8853-c01e-4d88-8dc7-184b49b6c553",
   "metadata": {},
   "source": [
    "###  14. Write a program to find the sum of digits of a number using a loop."
   ]
  },
  {
   "cell_type": "code",
   "execution_count": 3,
   "id": "0b3c7801-1320-4e9b-9c75-78d605d8cc52",
   "metadata": {},
   "outputs": [
    {
     "name": "stdin",
     "output_type": "stream",
     "text": [
      "Enter a number:  12345\n"
     ]
    },
    {
     "name": "stdout",
     "output_type": "stream",
     "text": [
      "Sum of digits: 15\n"
     ]
    }
   ],
   "source": [
    "num = int(input(\"Enter a number: \"))\n",
    "sum_of_digits = 0\n",
    "\n",
    "for digit in str(num):\n",
    "    sum_of_digits += int(digit)\n",
    "\n",
    "print(\"Sum of digits:\", sum_of_digits)\n"
   ]
  },
  {
   "cell_type": "markdown",
   "id": "7fa55c58-5e8c-42c8-8547-d986dc75a29f",
   "metadata": {},
   "source": [
    "### 15. Calculate Area Of Circle  Using Defining Function ."
   ]
  },
  {
   "cell_type": "code",
   "execution_count": 15,
   "id": "456002d7-4cd2-4d0d-bc8e-21191f9bdad2",
   "metadata": {},
   "outputs": [
    {
     "name": "stdin",
     "output_type": "stream",
     "text": [
      "Enterr The Number :  5\n"
     ]
    },
    {
     "name": "stdout",
     "output_type": "stream",
     "text": [
      "The Area Of Circle Is :  78.5\n"
     ]
    }
   ],
   "source": [
    "radius = float(input(\"Enterr The Number : \"))\n",
    "def circle_area(radius):\n",
    "      area = 3.14 * (radious * radious)\n",
    "      return area\n",
    "\n",
    "print(\"The Area Of Circle Is : \",circle_area(radius))"
   ]
  },
  {
   "cell_type": "markdown",
   "id": "204a3222-245e-47ee-981f-9e1f483bc703",
   "metadata": {},
   "source": [
    "### 16. Define a class Student with attributes name, roll, and marks. Include a method to display student details."
   ]
  },
  {
   "cell_type": "code",
   "execution_count": 22,
   "id": "3e5451be-823b-46e2-b414-184468f927cd",
   "metadata": {},
   "outputs": [
    {
     "name": "stdout",
     "output_type": "stream",
     "text": [
      "Name Is : Narayan , Roll No Is : 3301  & Marks Is : 95\n"
     ]
    }
   ],
   "source": [
    "class Student:\n",
    "    def __init__(self,name,marks,roll_no):\n",
    "        self.name = name \n",
    "        self.marks = marks \n",
    "        self.roll_no = roll_no\n",
    "\n",
    "    def display_student_details(self):\n",
    "        return\n",
    "\n",
    "student_1 = Student(\"Narayan\",95,3301)\n",
    "print(\"Name Is :\",student_1.name,\", Roll No Is :\",student_1.roll_no,\" & Marks Is :\",student_1.marks)   "
   ]
  },
  {
   "cell_type": "markdown",
   "id": "be3f7361-6869-45b9-b9b4-c738a65d3873",
   "metadata": {},
   "source": [
    "### 17. Create a class 'Calculator with methods for add, subtract, multiply, and divide."
   ]
  },
  {
   "cell_type": "code",
   "execution_count": 29,
   "id": "42167a6a-aa6f-49e3-93e1-b15008407a9d",
   "metadata": {},
   "outputs": [
    {
     "name": "stdin",
     "output_type": "stream",
     "text": [
      "Enter The Number :  100\n",
      "Enter the Number :  20\n"
     ]
    },
    {
     "name": "stdout",
     "output_type": "stream",
     "text": [
      "The Addition Is :  120\n",
      "The Substraction  Is :  80\n",
      "The Multiplication  Is :  2000\n",
      "The Division Is :  5.0\n"
     ]
    }
   ],
   "source": [
    "class Calculator:\n",
    "    def __init__(self):\n",
    "        self.num_1 = int(input(\"Enter The Number : \"))\n",
    "        self.num_2 = int(input(\"Enter the Number : \"))\n",
    "    def add(self):\n",
    "        print(\"The Addition Is : \", self.num_1 + self.num_2)\n",
    "    def sub(self):\n",
    "        print(\"The Substraction  Is : \", self.num_1 - self.num_2)\n",
    "    def mul(self):\n",
    "        print(\"The Multiplication  Is : \", self.num_1 * self.num_2)\n",
    "    def div(self):\n",
    "        if self.num_2 != 0:\n",
    "            print(\"The Division Is : \", self.num_1 / self.num_2)\n",
    "        else:\n",
    "            print(\"Division Is Not Allowed .\")\n",
    "\n",
    "calculate_1 = Calculator()\n",
    "calculate_1.add()\n",
    "calculate_1.sub()\n",
    "calculate_1.mul()\n",
    "calculate_1.div()\n",
    "\n",
    "        \n",
    "        \n",
    "        \n",
    "        "
   ]
  },
  {
   "cell_type": "markdown",
   "id": "ca217963-1ac5-4bdf-aa9b-e7247ba28d26",
   "metadata": {},
   "source": [
    "### 18. Write a program to demonstrate inheritance using a \"Vehicle class and a 'Car' subclass."
   ]
  },
  {
   "cell_type": "code",
   "execution_count": 36,
   "id": "44ba2744-937e-4596-ab0d-aeeb19117ede",
   "metadata": {},
   "outputs": [
    {
     "name": "stdout",
     "output_type": "stream",
     "text": [
      "I Am Oddi , My Speed Is 300  & My Color Is : Red\n",
      "I Am Rolls Royce , My Speed Is 400  & My Color Is : Purple\n"
     ]
    }
   ],
   "source": [
    "class Vehicle:\n",
    "    def __init__(self,name,speed,color):\n",
    "        self.name = name\n",
    "        self.speed = speed\n",
    "        self.color = color\n",
    "        \n",
    "    def display_details(self):\n",
    "        print(f\"I Am {self.name} , My Speed Is {self.speed}  & My Color Is : {self.color}\")\n",
    "\n",
    "class Car(Vehicle):\n",
    "    def __init__(self,name,speed,color):\n",
    "        super().__init__(name,speed,color)\n",
    "        \n",
    "    def display_details_1(self):\n",
    "        super().display_details()\n",
    "\n",
    "car_1 = Car(\"Oddi\",300,\"Red\")\n",
    "car_2 = Car(\"Rolls Royce\",400,\"Purple\")\n",
    "\n",
    "car_1.display_details_1()\n",
    "car_2.display_details_1()\n",
    "\n",
    "\n",
    "        \n",
    "        "
   ]
  },
  {
   "cell_type": "markdown",
   "id": "fe53ef12-7a57-4d40-928c-e5abfacceffa",
   "metadata": {},
   "source": [
    "### 19. Demonstrate the use of constructor and destructor in a class"
   ]
  },
  {
   "cell_type": "code",
   "execution_count": 37,
   "id": "41e41c38-828f-4f61-b46a-a0f306af0d4a",
   "metadata": {},
   "outputs": [
    {
     "name": "stdout",
     "output_type": "stream",
     "text": [
      "Vehicle 'Audi' created with speed 300 km/h and color Red.\n",
      "I am Audi, my speed is 300 km/h, and my color is Red.\n",
      "Vehicle 'Audi' is being destroyed.\n"
     ]
    }
   ],
   "source": [
    "class Vehicle:\n",
    "    def __init__(self, name, speed, color):\n",
    "        self.name = name\n",
    "        self.speed = speed\n",
    "        self.color = color\n",
    "        print(f\"Vehicle '{self.name}' created with speed {self.speed} km/h and color {self.color}.\")\n",
    "    \n",
    "    def display_details(self):\n",
    "        print(f\"I am {self.name}, my speed is {self.speed} km/h, and my color is {self.color}.\")\n",
    "    \n",
    "    def __del__(self):\n",
    "        print(f\"Vehicle '{self.name}' is being destroyed.\")\n",
    "\n",
    "vehicle_1 = Vehicle(\"Audi\", 300, \"Red\")\n",
    "vehicle_1.display_details()\n",
    "\n",
    "del vehicle_1\n"
   ]
  },
  {
   "cell_type": "markdown",
   "id": "3fd3eb88-0532-449b-8aa0-ca6f444fc003",
   "metadata": {},
   "source": [
    "### 20. Write a program to overload the '+' operator to add two custom objects."
   ]
  },
  {
   "cell_type": "code",
   "execution_count": 38,
   "id": "3e996c1d-21b1-4cd6-b8ab-c3828fac00d8",
   "metadata": {},
   "outputs": [
    {
     "name": "stdout",
     "output_type": "stream",
     "text": [
      "Value: 8\n"
     ]
    }
   ],
   "source": [
    "class Number:\n",
    "    def __init__(self, value):\n",
    "        self.value = value\n",
    "    \n",
    "    def __add__(self, other):\n",
    "        return Number(self.value + other.value)\n",
    "    \n",
    "    def display(self):\n",
    "        print(f\"Value: {self.value}\")\n",
    "\n",
    "num1 = Number(5)\n",
    "num2 = Number(3)\n",
    "\n",
    "result = num1 + num2\n",
    "result.display()\n"
   ]
  },
  {
   "cell_type": "code",
   "execution_count": null,
   "id": "2b7aeab6-34cc-43dc-86ec-a922b7bad4be",
   "metadata": {},
   "outputs": [],
   "source": []
  }
 ],
 "metadata": {
  "kernelspec": {
   "display_name": "Python 3 (ipykernel)",
   "language": "python",
   "name": "python3"
  },
  "language_info": {
   "codemirror_mode": {
    "name": "ipython",
    "version": 3
   },
   "file_extension": ".py",
   "mimetype": "text/x-python",
   "name": "python",
   "nbconvert_exporter": "python",
   "pygments_lexer": "ipython3",
   "version": "3.12.7"
  }
 },
 "nbformat": 4,
 "nbformat_minor": 5
}
